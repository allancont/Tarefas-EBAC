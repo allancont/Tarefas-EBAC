{
 "cells": [
  {
   "cell_type": "markdown",
   "metadata": {},
   "source": [
    "# Módulo 10 tarefa 2\n",
    "\n",
    "Considere a mesma base de dados utilizada na tarefa 1 ```previsao_de_renda.csv```."
   ]
  },
  {
   "cell_type": "markdown",
   "metadata": {},
   "source": [
    "1) Com o que você viu em aula, faça uma análise das variáveis qualitativas (posse de imóvel e posse de veículo) para verificar se são boas preditoras de *renda*. Alguma delas parece discriminar *renda* de forma estatisticamente significante?"
   ]
  },
  {
   "cell_type": "code",
   "execution_count": 1,
   "metadata": {},
   "outputs": [],
   "source": [
    "import sklearn\n",
    "import numpy as np\n",
    "import pandas as pd\n",
    "import matplotlib.pyplot as plt\n",
    "import seaborn as sns\n",
    "df = pd.read_csv('Profissão- Cientista de Dados_M10_support material.csv', sep=',')"
   ]
  },
  {
   "cell_type": "markdown",
   "metadata": {},
   "source": [
    "### Categorizando clientes "
   ]
  },
  {
   "cell_type": "code",
   "execution_count": 2,
   "metadata": {},
   "outputs": [
    {
     "data": {
      "text/html": [
       "<div>\n",
       "<style scoped>\n",
       "    .dataframe tbody tr th:only-of-type {\n",
       "        vertical-align: middle;\n",
       "    }\n",
       "\n",
       "    .dataframe tbody tr th {\n",
       "        vertical-align: top;\n",
       "    }\n",
       "\n",
       "    .dataframe thead th {\n",
       "        text-align: right;\n",
       "    }\n",
       "</style>\n",
       "<table border=\"1\" class=\"dataframe\">\n",
       "  <thead>\n",
       "    <tr style=\"text-align: right;\">\n",
       "      <th></th>\n",
       "      <th>renda</th>\n",
       "      <th>posse_de_veiculo</th>\n",
       "      <th>posse_de_imovel</th>\n",
       "      <th>classe</th>\n",
       "      <th>classe2</th>\n",
       "    </tr>\n",
       "  </thead>\n",
       "  <tbody>\n",
       "    <tr>\n",
       "      <th>7451</th>\n",
       "      <td>5642.31</td>\n",
       "      <td>False</td>\n",
       "      <td>False</td>\n",
       "      <td>D</td>\n",
       "      <td>Nenhum</td>\n",
       "    </tr>\n",
       "    <tr>\n",
       "      <th>2216</th>\n",
       "      <td>900.58</td>\n",
       "      <td>False</td>\n",
       "      <td>True</td>\n",
       "      <td>B</td>\n",
       "      <td>Imóvel</td>\n",
       "    </tr>\n",
       "    <tr>\n",
       "      <th>11681</th>\n",
       "      <td>9438.32</td>\n",
       "      <td>False</td>\n",
       "      <td>True</td>\n",
       "      <td>B</td>\n",
       "      <td>Imóvel</td>\n",
       "    </tr>\n",
       "    <tr>\n",
       "      <th>4328</th>\n",
       "      <td>1159.36</td>\n",
       "      <td>True</td>\n",
       "      <td>False</td>\n",
       "      <td>C</td>\n",
       "      <td>Veículo</td>\n",
       "    </tr>\n",
       "    <tr>\n",
       "      <th>10747</th>\n",
       "      <td>2292.09</td>\n",
       "      <td>False</td>\n",
       "      <td>False</td>\n",
       "      <td>D</td>\n",
       "      <td>Nenhum</td>\n",
       "    </tr>\n",
       "    <tr>\n",
       "      <th>5367</th>\n",
       "      <td>5512.29</td>\n",
       "      <td>True</td>\n",
       "      <td>True</td>\n",
       "      <td>A</td>\n",
       "      <td>Imóvel+Veículo</td>\n",
       "    </tr>\n",
       "    <tr>\n",
       "      <th>85</th>\n",
       "      <td>4074.25</td>\n",
       "      <td>True</td>\n",
       "      <td>False</td>\n",
       "      <td>C</td>\n",
       "      <td>Veículo</td>\n",
       "    </tr>\n",
       "    <tr>\n",
       "      <th>13662</th>\n",
       "      <td>1998.80</td>\n",
       "      <td>False</td>\n",
       "      <td>False</td>\n",
       "      <td>D</td>\n",
       "      <td>Nenhum</td>\n",
       "    </tr>\n",
       "    <tr>\n",
       "      <th>13256</th>\n",
       "      <td>6155.05</td>\n",
       "      <td>False</td>\n",
       "      <td>True</td>\n",
       "      <td>B</td>\n",
       "      <td>Imóvel</td>\n",
       "    </tr>\n",
       "    <tr>\n",
       "      <th>1102</th>\n",
       "      <td>2742.41</td>\n",
       "      <td>False</td>\n",
       "      <td>True</td>\n",
       "      <td>B</td>\n",
       "      <td>Imóvel</td>\n",
       "    </tr>\n",
       "  </tbody>\n",
       "</table>\n",
       "</div>"
      ],
      "text/plain": [
       "         renda  posse_de_veiculo  posse_de_imovel classe         classe2\n",
       "7451   5642.31             False            False      D          Nenhum\n",
       "2216    900.58             False             True      B          Imóvel\n",
       "11681  9438.32             False             True      B          Imóvel\n",
       "4328   1159.36              True            False      C         Veículo\n",
       "10747  2292.09             False            False      D          Nenhum\n",
       "5367   5512.29              True             True      A  Imóvel+Veículo\n",
       "85     4074.25              True            False      C         Veículo\n",
       "13662  1998.80             False            False      D          Nenhum\n",
       "13256  6155.05             False             True      B          Imóvel\n",
       "1102   2742.41             False             True      B          Imóvel"
      ]
     },
     "execution_count": 2,
     "metadata": {},
     "output_type": "execute_result"
    }
   ],
   "source": [
    "df.loc[(df['posse_de_imovel'] == True ) & (df['posse_de_veiculo'] == True),  'classe'] = 'A'\n",
    "df.loc[(df['posse_de_imovel'] == True ) & (df['posse_de_veiculo'] == False), 'classe'] = 'B'\n",
    "df.loc[(df['posse_de_imovel'] == False) & (df['posse_de_veiculo'] == True),  'classe'] = 'C'\n",
    "df.loc[(df['posse_de_imovel'] == False) & (df['posse_de_veiculo'] == False), 'classe'] = 'D'\n",
    "df.loc[(df['posse_de_imovel'] == True ) & (df['posse_de_veiculo'] == True),  'classe2'] = 'Imóvel+Veículo'\n",
    "df.loc[(df['posse_de_imovel'] == True ) & (df['posse_de_veiculo'] == False), 'classe2'] = 'Imóvel'\n",
    "df.loc[(df['posse_de_imovel'] == False) & (df['posse_de_veiculo'] == True),  'classe2'] = 'Veículo'\n",
    "df.loc[(df['posse_de_imovel'] == False) & (df['posse_de_veiculo'] == False), 'classe2'] = 'Nenhum'\n",
    "\n",
    "df['classe'] = df['classe'].astype('category')\n",
    "df['classe2'] = df['classe2'].astype('category')\n",
    "df1=df[['renda','posse_de_veiculo','posse_de_imovel','classe','classe2']]\n",
    "df1.sample(10)"
   ]
  },
  {
   "cell_type": "markdown",
   "metadata": {},
   "source": [
    "### Avaliando resultados"
   ]
  },
  {
   "cell_type": "code",
   "execution_count": 3,
   "metadata": {},
   "outputs": [
    {
     "data": {
      "image/png": "[encoded data removed]",
      "text/plain": [
       "<Figure size 432x288 with 1 Axes>"
      ]
     },
     "metadata": {
      "needs_background": "light"
     },
     "output_type": "display_data"
    }
   ],
   "source": [
    "plt.title('Renda x Posse')\n",
    "ax = sns.pointplot(x='classe', y='renda',data=df1, dodge=True, ci = 90)\n"
   ]
  },
  {
   "cell_type": "code",
   "execution_count": 4,
   "metadata": {},
   "outputs": [
    {
     "data": {
      "text/plain": [
       "<matplotlib.legend.Legend at 0x1f4cf24fbe0>"
      ]
     },
     "execution_count": 4,
     "metadata": {},
     "output_type": "execute_result"
    },
    {
     "data": {
      "image/png": "[encoded data removed]",
      "text/plain": [
       "<Figure size 432x288 with 1 Axes>"
      ]
     },
     "metadata": {
      "needs_background": "light"
     },
     "output_type": "display_data"
    }
   ],
   "source": [
    "plt.title('Renda x Posse')\n",
    "ax = sns.pointplot(x='classe', y='renda', hue = 'classe2',data=df1, dodge=True, ci = 95)\n",
    "plt.legend(loc = 'lower center', bbox_to_anchor=(0.5, -.30),ncol = 4)"
   ]
  },
  {
   "cell_type": "markdown",
   "metadata": {},
   "source": [
    "# Conclusão\n",
    "Os clientes foram categorizados de acordo suas posses nas classes A, B, C e D conforme demonstrado abaixo:\n",
    "\n",
    "|  Classe   | Posse de bens    |\n",
    "|---:|:-------------|\n",
    "| A  | Imóvel + Veículo|\n",
    "| B  | Imóvel|\n",
    "| C  | Veículo|\n",
    "| D  | Nenhum|\n",
    "\n",
    "O resultado final deverá ser visto com cautela devido aos seguintes fatores:\n",
    "- Conforme esperado, os clientes que possuem imóvel e veículo são os que apresentaram a renda média mais elevada assim como os que não possuem nenhum tipo de bem são os que possuem a renda média mais baixa.\n",
    "- Diversamente, os clientes que possuem imóvel, tipo de bem que usualmente deveria ter um valor superior aos veículos, apresentaram renda média inferior aos clientes que só possuiam veículos.\n",
    "- Para uma apuração mais consistente, os valores dos bens deveriam ser considerados em análises futuras."
   ]
  }
 ],
 "metadata": {
  "kernelspec": {
   "display_name": "Python 3 (ipykernel)",
   "language": "python",
   "name": "python3"
  },
  "language_info": {
   "codemirror_mode": {
    "name": "ipython",
    "version": 3
   },
   "file_extension": ".py",
   "mimetype": "text/x-python",
   "name": "python",
   "nbconvert_exporter": "python",
   "pygments_lexer": "ipython3",
   "version": "3.9.7"
  }
 },
 "nbformat": 4,
 "nbformat_minor": 4
}
