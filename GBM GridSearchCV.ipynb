{
 "cells": [
  {
   "cell_type": "code",
   "execution_count": 1,
   "id": "b12d1d03",
   "metadata": {},
   "outputs": [],
   "source": [
    "import patsy\n",
    "import pandas as pd\n",
    "import seaborn as sns\n",
    "import matplotlib.pyplot as plt\n",
    "import numpy as np\n",
    "from datetime import datetime\n",
    "from tqdm import tqdm\n",
    "from scipy.stats import ks_2samp\n",
    "from sklearn.metrics import accuracy_score, roc_auc_score\n",
    "from sklearn.model_selection import train_test_split\n",
    "from sklearn.ensemble import GradientBoostingClassifier\n",
    "from sklearn.ensemble import RandomForestClassifier\n",
    "\n",
    "import warnings\n",
    "warnings.filterwarnings(\"ignore\")\n",
    "%matplotlib inline"
   ]
  },
  {
   "cell_type": "code",
   "execution_count": 2,
   "id": "661bf4d0",
   "metadata": {},
   "outputs": [
    {
     "data": {
      "text/html": [
       "<div>\n",
       "<style scoped>\n",
       "    .dataframe tbody tr th:only-of-type {\n",
       "        vertical-align: middle;\n",
       "    }\n",
       "\n",
       "    .dataframe tbody tr th {\n",
       "        vertical-align: top;\n",
       "    }\n",
       "\n",
       "    .dataframe thead th {\n",
       "        text-align: right;\n",
       "    }\n",
       "</style>\n",
       "<table border=\"1\" class=\"dataframe\">\n",
       "  <thead>\n",
       "    <tr style=\"text-align: right;\">\n",
       "      <th></th>\n",
       "      <th>data_ref</th>\n",
       "      <th>id_cliente</th>\n",
       "      <th>sexo</th>\n",
       "      <th>posse_de_veiculo</th>\n",
       "      <th>posse_de_imovel</th>\n",
       "      <th>qtd_filhos</th>\n",
       "      <th>tipo_renda</th>\n",
       "      <th>educacao</th>\n",
       "      <th>estado_civil</th>\n",
       "      <th>tipo_residencia</th>\n",
       "      <th>idade</th>\n",
       "      <th>tempo_emprego</th>\n",
       "      <th>qt_pessoas_residencia</th>\n",
       "      <th>renda</th>\n",
       "      <th>mau</th>\n",
       "    </tr>\n",
       "  </thead>\n",
       "  <tbody>\n",
       "    <tr>\n",
       "      <th>0</th>\n",
       "      <td>2015-01-01</td>\n",
       "      <td>1</td>\n",
       "      <td>F</td>\n",
       "      <td>True</td>\n",
       "      <td>True</td>\n",
       "      <td>0</td>\n",
       "      <td>Assalariado</td>\n",
       "      <td>Secundário</td>\n",
       "      <td>Casado</td>\n",
       "      <td>Casa</td>\n",
       "      <td>49</td>\n",
       "      <td>8.605479</td>\n",
       "      <td>2.0</td>\n",
       "      <td>1916.54</td>\n",
       "      <td>0</td>\n",
       "    </tr>\n",
       "    <tr>\n",
       "      <th>1</th>\n",
       "      <td>2015-01-01</td>\n",
       "      <td>2</td>\n",
       "      <td>M</td>\n",
       "      <td>True</td>\n",
       "      <td>False</td>\n",
       "      <td>0</td>\n",
       "      <td>Empresário</td>\n",
       "      <td>Secundário</td>\n",
       "      <td>União</td>\n",
       "      <td>Casa</td>\n",
       "      <td>60</td>\n",
       "      <td>6.953425</td>\n",
       "      <td>2.0</td>\n",
       "      <td>2967.25</td>\n",
       "      <td>0</td>\n",
       "    </tr>\n",
       "    <tr>\n",
       "      <th>2</th>\n",
       "      <td>2015-01-01</td>\n",
       "      <td>3</td>\n",
       "      <td>F</td>\n",
       "      <td>True</td>\n",
       "      <td>False</td>\n",
       "      <td>0</td>\n",
       "      <td>Empresário</td>\n",
       "      <td>Secundário</td>\n",
       "      <td>Casado</td>\n",
       "      <td>Casa</td>\n",
       "      <td>28</td>\n",
       "      <td>0.682192</td>\n",
       "      <td>2.0</td>\n",
       "      <td>340.96</td>\n",
       "      <td>0</td>\n",
       "    </tr>\n",
       "    <tr>\n",
       "      <th>3</th>\n",
       "      <td>2015-01-01</td>\n",
       "      <td>4</td>\n",
       "      <td>F</td>\n",
       "      <td>False</td>\n",
       "      <td>True</td>\n",
       "      <td>0</td>\n",
       "      <td>Assalariado</td>\n",
       "      <td>Superior completo</td>\n",
       "      <td>Casado</td>\n",
       "      <td>Casa</td>\n",
       "      <td>60</td>\n",
       "      <td>1.879452</td>\n",
       "      <td>2.0</td>\n",
       "      <td>4903.16</td>\n",
       "      <td>0</td>\n",
       "    </tr>\n",
       "    <tr>\n",
       "      <th>4</th>\n",
       "      <td>2015-01-01</td>\n",
       "      <td>5</td>\n",
       "      <td>F</td>\n",
       "      <td>False</td>\n",
       "      <td>False</td>\n",
       "      <td>0</td>\n",
       "      <td>Empresário</td>\n",
       "      <td>Secundário</td>\n",
       "      <td>Casado</td>\n",
       "      <td>Casa</td>\n",
       "      <td>47</td>\n",
       "      <td>8.438356</td>\n",
       "      <td>2.0</td>\n",
       "      <td>3012.60</td>\n",
       "      <td>0</td>\n",
       "    </tr>\n",
       "  </tbody>\n",
       "</table>\n",
       "</div>"
      ],
      "text/plain": [
       "    data_ref  id_cliente sexo  posse_de_veiculo  posse_de_imovel  qtd_filhos  \\\n",
       "0 2015-01-01           1    F              True             True           0   \n",
       "1 2015-01-01           2    M              True            False           0   \n",
       "2 2015-01-01           3    F              True            False           0   \n",
       "3 2015-01-01           4    F             False             True           0   \n",
       "4 2015-01-01           5    F             False            False           0   \n",
       "\n",
       "    tipo_renda           educacao estado_civil tipo_residencia  idade  \\\n",
       "0  Assalariado         Secundário       Casado            Casa     49   \n",
       "1   Empresário         Secundário        União            Casa     60   \n",
       "2   Empresário         Secundário       Casado            Casa     28   \n",
       "3  Assalariado  Superior completo       Casado            Casa     60   \n",
       "4   Empresário         Secundário       Casado            Casa     47   \n",
       "\n",
       "   tempo_emprego  qt_pessoas_residencia    renda  mau  \n",
       "0       8.605479                    2.0  1916.54    0  \n",
       "1       6.953425                    2.0  2967.25    0  \n",
       "2       0.682192                    2.0   340.96    0  \n",
       "3       1.879452                    2.0  4903.16    0  \n",
       "4       8.438356                    2.0  3012.60    0  "
      ]
     },
     "execution_count": 2,
     "metadata": {},
     "output_type": "execute_result"
    }
   ],
   "source": [
    "dados = pd.read_csv(\"C:/Users/Allan/Documents/Material de apoio/Módulo 23 - Combinação de modelos I/credit_scoring.csv\", parse_dates = ['data_ref'])\n",
    "# dados['tempo_emprego'].fillna(-1, inplace=True)\n",
    "# dados['mau'] = dados2['mau'].map({'VERDADEIRO': 1, 'FALSO':0})\n",
    "dados.head()"
   ]
  },
  {
   "cell_type": "code",
   "execution_count": 3,
   "id": "68ef8fe4",
   "metadata": {},
   "outputs": [
    {
     "name": "stdout",
     "output_type": "stream",
     "text": [
      "Quantidade de linhas no treino:     42000\n",
      "Quantidade de linhas no teste:      18000\n",
      "Quantidade de linhas na validação:  15000\n",
      "Quantidade total de linhas:  60000\n"
     ]
    }
   ],
   "source": [
    "df = dados.copy()\n",
    "# Selecionar meses de 2016 para validação\n",
    "df_val = df[df['data_ref'] >= datetime(2016,1,1)].copy()\n",
    "\n",
    "# Selecionar meses de 2015 para treinamento e teste\n",
    "df = df[df['data_ref'] < datetime(2016,1,1)]\n",
    "\n",
    "df_train, df_test = train_test_split(df, test_size=0.3, random_state=12)\n",
    "\n",
    "df_train = df_train.reset_index(drop=True)\n",
    "df_test = df_test.reset_index(drop=True)\n",
    "df_val = df_val.reset_index(drop=True)\n",
    "\n",
    "print('Quantidade de linhas no treino:    ',df_train.shape[0])\n",
    "print('Quantidade de linhas no teste:     ',df_test.shape[0])\n",
    "print('Quantidade de linhas na validação: ',df_val.shape[0])\n",
    "print('Quantidade total de linhas: ',df.shape[0])"
   ]
  },
  {
   "cell_type": "code",
   "execution_count": 4,
   "id": "7fa326d4",
   "metadata": {},
   "outputs": [
    {
     "name": "stdout",
     "output_type": "stream",
     "text": [
      "0    39073\n",
      "1     2927\n",
      "Name: mau, dtype: int64\n",
      "0    16769\n",
      "1     1231\n",
      "Name: mau, dtype: int64\n",
      "0    13932\n",
      "1     1068\n",
      "Name: mau, dtype: int64\n"
     ]
    }
   ],
   "source": [
    "# X has 894 features, but DecisionTreeClassifier is expecting 1067 features as input\n",
    "print(df_train.mau.value_counts())\n",
    "print(df_test.mau.value_counts())\n",
    "print(df_val.mau.value_counts())"
   ]
  },
  {
   "cell_type": "code",
   "execution_count": 8,
   "id": "a84c55ee",
   "metadata": {},
   "outputs": [],
   "source": [
    "equacao = '''mau ~ \n",
    "sexo + \n",
    "posse_de_veiculo + \n",
    "posse_de_imovel +   \n",
    "tipo_renda +\n",
    "educacao +\n",
    "estado_civil +\n",
    "tipo_residencia +\n",
    "qtd_filhos +\n",
    "idade +\n",
    "qt_pessoas_residencia'''\n",
    "\n",
    "y_train, X_train = patsy.dmatrices(equacao, data=df_train)\n",
    "y_test, X_test = patsy.dmatrices(equacao, data=df_test)\n",
    "y_val, X_val = patsy.dmatrices(equacao, data=df_val)"
   ]
  },
  {
   "cell_type": "code",
   "execution_count": 22,
   "id": "42d40bcd",
   "metadata": {},
   "outputs": [],
   "source": [
    "# Calcular o Gini\n",
    "def calcula_gini(RESP, PD):\n",
    "    #AUC\n",
    "    auc = roc_auc_score(RESP, PD)\n",
    "    \n",
    "    #Gini\n",
    "    gini = 2*auc -1\n",
    "    return gini\n",
    "\n",
    "\n",
    "def print_metricas(dados, \n",
    "                  PD = 'PD', \n",
    "                  CLASSE_PRED = 'classe_predita', \n",
    "                  RESP = 'mau'):\n",
    "    \n",
    "    #Acuracia\n",
    "    acc = accuracy_score(dados[RESP], dados[CLASSE_PRED])\n",
    "\n",
    "    #AUC\n",
    "    auc = roc_auc_score(dados[RESP], dados[PD])\n",
    "    \n",
    "    #Gini\n",
    "    gini = 2*auc-1\n",
    "    \n",
    "    #KS\n",
    "    ks = ks_2samp(dados.loc[dados[RESP] == 1, PD], \n",
    "                  dados.loc[dados[RESP] != 1, PD]).statistic\n",
    "\n",
    "    print('KS:       {0:.2f}%'.format(ks*100))\n",
    "    print('AUC:      {0:.2f}%'.format(auc*100))\n",
    "    print('GINI:     {0:.2f}%'.format(gini*100))\n",
    "    print('Acurácia: {0:.2f}%\\n'.format(acc*100))\n",
    "    \n",
    "    return None"
   ]
  },
  {
   "cell_type": "code",
   "execution_count": 6,
   "id": "355e8ebe",
   "metadata": {},
   "outputs": [],
   "source": [
    "from sklearn.model_selection import StratifiedShuffleSplit\n",
    "from sklearn.metrics import accuracy_score, roc_auc_score,precision_score,recall_score\n",
    "from sklearn.model_selection import GridSearchCV\n",
    "from sklearn.metrics import make_scorer\n"
   ]
  },
  {
   "cell_type": "code",
   "execution_count": 9,
   "id": "9392be35",
   "metadata": {},
   "outputs": [
    {
     "name": "stdout",
     "output_type": "stream",
     "text": [
      "Wall time: 4min 44s\n"
     ]
    },
    {
     "data": {
      "text/plain": [
       "GridSearchCV(cv=2, estimator=GradientBoostingClassifier(),\n",
       "             param_grid={'learning_rate': [0.04, 0.06, 0.1],\n",
       "                         'min_samples_leaf': [2, 10, 20],\n",
       "                         'n_estimators': [100, 300, 600]},\n",
       "             scoring='roc_auc', verbose=False)"
      ]
     },
     "execution_count": 9,
     "metadata": {},
     "output_type": "execute_result"
    }
   ],
   "source": [
    "%%time\n",
    "gb = GradientBoostingClassifier()\n",
    "parametros = {\n",
    "    'n_estimators': [100,300,600],\n",
    "    'min_samples_leaf': [2,10,20],\n",
    "    'learning_rate':[0.04,0.06,0.1]\n",
    "}\n",
    "\n",
    "grid = GridSearchCV(estimator=gb,\n",
    "                   param_grid=parametros,\n",
    "                   scoring='roc_auc',\n",
    "                   verbose=False,\n",
    "                   cv=2)\n",
    "grid.fit(X_train,y_train.ravel())"
   ]
  },
  {
   "cell_type": "code",
   "execution_count": 10,
   "id": "262f401f",
   "metadata": {},
   "outputs": [
    {
     "data": {
      "text/plain": [
       "{'learning_rate': 0.04, 'min_samples_leaf': 2, 'n_estimators': 100}"
      ]
     },
     "execution_count": 10,
     "metadata": {},
     "output_type": "execute_result"
    }
   ],
   "source": [
    "grid.best_params_"
   ]
  },
  {
   "cell_type": "code",
   "execution_count": 12,
   "id": "6cd8876c",
   "metadata": {},
   "outputs": [
    {
     "name": "stdout",
     "output_type": "stream",
     "text": [
      "Wall time: 3.18 s\n"
     ]
    },
    {
     "data": {
      "text/plain": [
       "GradientBoostingClassifier(learning_rate=0.04, min_samples_leaf=2)"
      ]
     },
     "execution_count": 12,
     "metadata": {},
     "output_type": "execute_result"
    }
   ],
   "source": [
    "%%time\n",
    "clf = GradientBoostingClassifier(**grid.best_params_).fit(X_train,y_train.ravel())\n",
    "clf"
   ]
  },
  {
   "cell_type": "markdown",
   "id": "d6ad51cf",
   "metadata": {},
   "source": [
    "### 2º tunning"
   ]
  },
  {
   "cell_type": "code",
   "execution_count": 16,
   "id": "351ad9ba",
   "metadata": {},
   "outputs": [
    {
     "name": "stdout",
     "output_type": "stream",
     "text": [
      "Wall time: 1min 24s\n"
     ]
    },
    {
     "data": {
      "text/plain": [
       "{'learning_rate': 0.03, 'min_samples_leaf': 12, 'n_estimators': 110}"
      ]
     },
     "execution_count": 16,
     "metadata": {},
     "output_type": "execute_result"
    }
   ],
   "source": [
    "%%time\n",
    "gb = GradientBoostingClassifier()\n",
    "parametros = {\n",
    "        'learning_rate':[0.02,0.03,0.04],\n",
    "    'min_samples_leaf': [8,10,12],\n",
    "    'n_estimators': [90,100,110]\n",
    "    \n",
    "\n",
    "}\n",
    "\n",
    "grid = GridSearchCV(estimator=gb,\n",
    "                   param_grid=parametros,\n",
    "                   scoring='roc_auc',\n",
    "                   verbose=False,\n",
    "                   cv=2)\n",
    "grid.fit(X_train,y_train.ravel())\n",
    "\n",
    "grid.best_params_\n",
    "# {'learning_rate': 0.03, 'min_samples_leaf': 12, 'n_estimators': 110}"
   ]
  },
  {
   "cell_type": "code",
   "execution_count": 14,
   "id": "8c909027",
   "metadata": {},
   "outputs": [
    {
     "name": "stdout",
     "output_type": "stream",
     "text": [
      "Wall time: 3.6 s\n"
     ]
    },
    {
     "data": {
      "text/plain": [
       "GradientBoostingClassifier(learning_rate=0.03, min_samples_leaf=12,\n",
       "                           n_estimators=110)"
      ]
     },
     "execution_count": 14,
     "metadata": {},
     "output_type": "execute_result"
    }
   ],
   "source": [
    "%%time\n",
    "clf = GradientBoostingClassifier(**grid.best_params_).fit(X_train,y_train.ravel())\n",
    "clf"
   ]
  },
  {
   "cell_type": "markdown",
   "id": "69dd357a",
   "metadata": {},
   "source": [
    "### 3º tunning"
   ]
  },
  {
   "cell_type": "code",
   "execution_count": 15,
   "id": "5a3c8589",
   "metadata": {},
   "outputs": [
    {
     "name": "stdout",
     "output_type": "stream",
     "text": [
      "Wall time: 1min 37s\n"
     ]
    },
    {
     "data": {
      "text/plain": [
       "{'learning_rate': 0.01, 'min_samples_leaf': 6, 'n_estimators': 50}"
      ]
     },
     "execution_count": 15,
     "metadata": {},
     "output_type": "execute_result"
    }
   ],
   "source": [
    "%%time\n",
    "gb = GradientBoostingClassifier()\n",
    "parametros = {\n",
    "        'learning_rate':[0.01,0.015,0.02],\n",
    "    'min_samples_leaf': [6,7,8],\n",
    "    'n_estimators': [50,100,200]\n",
    "    \n",
    "\n",
    "}\n",
    "\n",
    "grid = GridSearchCV(estimator=gb,\n",
    "                   param_grid=parametros,\n",
    "                   scoring='recall',\n",
    "                   verbose=False,\n",
    "                   cv=2)\n",
    "grid.fit(X_train,y_train.ravel())\n",
    "\n",
    "grid.best_params_"
   ]
  },
  {
   "cell_type": "markdown",
   "id": "55b2a6c6",
   "metadata": {},
   "source": [
    "### 4º tunning"
   ]
  },
  {
   "cell_type": "code",
   "execution_count": 17,
   "id": "0cccad4f",
   "metadata": {},
   "outputs": [
    {
     "name": "stdout",
     "output_type": "stream",
     "text": [
      "Wall time: 12.3 s\n"
     ]
    },
    {
     "data": {
      "text/plain": [
       "{'learning_rate': 0.01, 'min_samples_leaf': 8, 'n_estimators': 100}"
      ]
     },
     "execution_count": 17,
     "metadata": {},
     "output_type": "execute_result"
    }
   ],
   "source": [
    "%%time\n",
    "gb = GradientBoostingClassifier()\n",
    "parametros = {\n",
    "    'learning_rate':[0.008,0.009,0.01],\n",
    "    'min_samples_leaf': [8],\n",
    "    'n_estimators': [100]\n",
    "    \n",
    "\n",
    "}\n",
    "\n",
    "grid = GridSearchCV(estimator=gb,\n",
    "                   param_grid=parametros,\n",
    "                   scoring='roc_auc',\n",
    "                   verbose=False,\n",
    "                   cv=2)\n",
    "grid.fit(X_train,y_train.ravel())\n",
    "\n",
    "grid.best_params_"
   ]
  },
  {
   "cell_type": "markdown",
   "id": "f2c00bb7",
   "metadata": {},
   "source": [
    "### Treinando e calculando a performance dos melhores hyperparâmetros"
   ]
  },
  {
   "cell_type": "code",
   "execution_count": 18,
   "id": "78692965",
   "metadata": {},
   "outputs": [
    {
     "data": {
      "text/plain": [
       "{'learning_rate': 0.01, 'min_samples_leaf': 8, 'n_estimators': 100}"
      ]
     },
     "execution_count": 18,
     "metadata": {},
     "output_type": "execute_result"
    }
   ],
   "source": [
    "grid.best_params_"
   ]
  },
  {
   "cell_type": "code",
   "execution_count": 25,
   "id": "dbb7686a",
   "metadata": {},
   "outputs": [
    {
     "name": "stdout",
     "output_type": "stream",
     "text": [
      "Performance do GBM nos dados de treino\n",
      "KS:       14.70%\n",
      "AUC:      60.40%\n",
      "GINI:     20.80%\n",
      "Acurácia: 93.03%\n",
      "\n",
      "Performance do GBM nos dados de teste\n",
      "KS:       16.84%\n",
      "AUC:      60.46%\n",
      "GINI:     20.93%\n",
      "Acurácia: 93.16%\n",
      "\n",
      "Performance do GBM nos dados de validação\n",
      "KS:       15.67%\n",
      "AUC:      59.77%\n",
      "GINI:     19.53%\n",
      "Acurácia: 92.88%\n",
      "\n",
      "Wall time: 3.43 s\n"
     ]
    }
   ],
   "source": [
    "%%time\n",
    "parametros = {\n",
    "    'learning_rate':0.009,\n",
    "    'min_samples_leaf': 8,\n",
    "    'n_estimators': 100}\n",
    "\n",
    "clf = GradientBoostingClassifier(**grid.best_params_)\\\n",
    ".fit(X_train,y_train.ravel())\n",
    "\n",
    "df_train['classe_predita'] = clf.predict(X_train)\n",
    "df_train['PD'] = clf.predict_proba(X_train)[:, 1]\n",
    "\n",
    "df_test['classe_predita']=clf.predict(X_test)\n",
    "df_test['PD']=clf.predict_proba(X_test)[:, 1]\n",
    "\n",
    "df_val['classe_predita']=clf.predict(X_val)\n",
    "df_val['PD']=clf.predict_proba(X_val)[:, 1]\n",
    "\n",
    "print('Performance do GBM nos dados de treino')\n",
    "print_metricas(dados=df_train)\n",
    "\n",
    "print('Performance do GBM nos dados de teste')\n",
    "print_metricas(dados=df_test)\n",
    "\n",
    "print('Performance do GBM nos dados de validação')\n",
    "print_metricas(dados=df_val)"
   ]
  },
  {
   "cell_type": "code",
   "execution_count": 32,
   "id": "fea66c79",
   "metadata": {},
   "outputs": [
    {
     "name": "stdout",
     "output_type": "stream",
     "text": [
      "0.0    42000\n",
      "Name: classe_predita, dtype: int64\n",
      "0    39073\n",
      "1     2927\n",
      "Name: mau, dtype: int64\n"
     ]
    }
   ],
   "source": [
    "df_train[(df_train['classe_predita']!=1) & (df_train['mau']!=0)]\n",
    "print(df_train.classe_predita.value_counts())\n",
    "print(df_train.mau.value_counts())"
   ]
  },
  {
   "cell_type": "code",
   "execution_count": 35,
   "id": "30e0277b",
   "metadata": {},
   "outputs": [
    {
     "name": "stdout",
     "output_type": "stream",
     "text": [
      "0.0    18000\n",
      "Name: classe_predita, dtype: int64\n",
      "0    16769\n",
      "1     1231\n",
      "Name: mau, dtype: int64\n"
     ]
    }
   ],
   "source": [
    "df_test[(df_test['classe_predita']!=1) & (df_test['mau']!=0)]\n",
    "print(df_test.classe_predita.value_counts())\n",
    "print(df_test.mau.value_counts())"
   ]
  },
  {
   "cell_type": "code",
   "execution_count": 36,
   "id": "81e4a271",
   "metadata": {},
   "outputs": [
    {
     "name": "stdout",
     "output_type": "stream",
     "text": [
      "0.0    15000\n",
      "Name: classe_predita, dtype: int64\n",
      "0    13932\n",
      "1     1068\n",
      "Name: mau, dtype: int64\n"
     ]
    }
   ],
   "source": [
    "df_val[(df_val['classe_predita']!=1) & (df_val['mau']!=0)]\n",
    "print(df_val.classe_predita.value_counts())\n",
    "print(df_val.mau.value_counts())"
   ]
  },
  {
   "cell_type": "code",
   "execution_count": 33,
   "id": "e935b997",
   "metadata": {},
   "outputs": [
    {
     "data": {
      "text/plain": [
       "array([0.08189284, 0.06136853, 0.07670068, ..., 0.08189284, 0.05622839,\n",
       "       0.07577805])"
      ]
     },
     "execution_count": 33,
     "metadata": {},
     "output_type": "execute_result"
    }
   ],
   "source": [
    "clf.predict_proba(X_test)[:, 1]"
   ]
  }
 ],
 "metadata": {
  "kernelspec": {
   "display_name": "Python 3",
   "language": "python",
   "name": "python3"
  },
  "language_info": {
   "codemirror_mode": {
    "name": "ipython",
    "version": 3
   },
   "file_extension": ".py",
   "mimetype": "text/x-python",
   "name": "python",
   "nbconvert_exporter": "python",
   "pygments_lexer": "ipython3",
   "version": "3.9.7"
  }
 },
 "nbformat": 4,
 "nbformat_minor": 5
}
