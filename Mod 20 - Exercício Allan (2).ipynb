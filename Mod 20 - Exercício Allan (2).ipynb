{
 "cells": [
  {
   "cell_type": "markdown",
   "id": "4ba6ecd2",
   "metadata": {},
   "source": [
    "# Tarefa 1\n",
    "\n",
    "Escreva o texto abaixo que se encontra no [link](https://www.educamaisbrasil.com.br/enem/matematica/formula-de-bhaskara) usando markdown e LaTeX"
   ]
  },
  {
   "cell_type": "markdown",
   "id": "777b519b",
   "metadata": {},
   "source": [
    "### Fórmula de Bhaskara\n",
    "\n",
    "A solução para uma função de segundo grau depende das suas raízes (valores de x). Como já vimos, os coeficientes precisam ser números reais e o angular diferente de zero. Sendo assim, temos a seguinte fórmula de Bhaskara: \n",
    "\n",
    "\\begin{eqnarray}\n",
    "x &=& \\frac{-b\\pm \\sqrt{b^2-4\\cdot a\\cdot c}} {2\\cdot a}\n",
    "\\end{eqnarray}\n",
    "###### <center>Fórmula de Bhaskara</center>\n",
    "\n",
    "Para melhor compreensão o seu cálculo é dividido em duas partes: discriminante da equação e operações para determinar as raízes.\n",
    "\n",
    "\n",
    "##### Discriminante \n",
    "\n",
    "A figura dentro da raiz na fórmula de Bhaskara é nomeada de discriminante. Seu símbolo é a letra grega delta e apresenta a determinada fórmula:\n",
    "```Latex \n",
    "``` \n",
    "$$\\Delta=b^2-4 \\cdot a \\cdot c$$\n",
    "###### <center>Fórmula de Discriminante</center>\n",
    "\n",
    "- Se o delta for maior que zero, a equação terá dois valores reais e distintos. \n",
    "- Se o delta for igual a zero, a equação terá somente um valor real ou dois resultados iguais. \n",
    "- Se o delta for menor que zero, a equação não possuirá valores reais. \n",
    "\n",
    "Portanto, é fundamental o valor de delta para definir as raízes de uma função do segundo grau. Substituindo o discriminante e os coeficientes, a fórmula de Bhaskara ficará dessa forma:\n",
    "\n",
    "\\begin{eqnarray}\n",
    "x &=& \\frac{-b\\pm \\sqrt{\\Delta}} {2\\cdot a}\n",
    "\\end{eqnarray}\n",
    "###### <center>Substituição na fórmula</center>\n",
    "\n",
    "##### Cálculo das raízes\n",
    "\n",
    "\n",
    "Na fórmula aparece o sinal de “±”. Isso indica que deve ser realizado duas operações. Na primeira, quando o valor que segue a discriminante for positivo. Já na segunda, quando o valor que segue a discriminante for negativo, ou seja:\n",
    "\\begin{eqnarray}\n",
    "x' &=& \\frac{-b +\\sqrt{\\Delta}} {2\\cdot a}\n",
    "\\end{eqnarray}\n",
    "##### <center>Fórmula de Bhaskara positiva</center>\n",
    "\n",
    "\\begin{eqnarray}\n",
    "x'' &=& \\frac{-b -\\sqrt{\\Delta}} {2\\cdot a}\n",
    "\\end{eqnarray}\n",
    "##### <center>Fórmula de Bhaskara negativa</center>"
   ]
  }
 ],
 "metadata": {
  "kernelspec": {
   "display_name": "Python 3",
   "language": "python",
   "name": "python3"
  },
  "language_info": {
   "codemirror_mode": {
    "name": "ipython",
    "version": 3
   },
   "file_extension": ".py",
   "mimetype": "text/x-python",
   "name": "python",
   "nbconvert_exporter": "python",
   "pygments_lexer": "ipython3",
   "version": "3.9.7"
  }
 },
 "nbformat": 4,
 "nbformat_minor": 5
}
