{
 "cells": [
  {
   "cell_type": "markdown",
   "id": "82c65261",
   "metadata": {},
   "source": [
    "### 1. Etapas do algoritmo Random Forest\n",
    "1. Separação do dataset em subconjuntos de linhas e colunas aleatórias;\n",
    "2. Atribuição de pesos de acordo com o nível de acerto nos resultados;\n",
    "3. Analisar a acurácia e precisão das árvores de decisão construídas;\n",
    "4. Classificar o resultado predito;\n",
    "5. Obter a média ou maior frequência através da agregação do resultado obtido das árvores construídas."
   ]
  },
  {
   "cell_type": "markdown",
   "id": "e6950140",
   "metadata": {},
   "source": [
    "### 2. Random Forest \n",
    "O Random Forest consiste em uma técnica Bagging que utiliza várias subamostras de múltiplas árvores independentes entre si usando a média dos resultados visando a melhoria da precisão do modelo final;"
   ]
  },
  {
   "cell_type": "markdown",
   "id": "866529cc",
   "metadata": {},
   "source": [
    "### 3. Diferença entre Bagging e Random Forest\n",
    "O Random Forest se diferencia por utilizar um dataset de características totalmente aleatórias do conjunto total dos dados, sendo escolhida a melhor  divisão do subconjunto para dividir cada nó em uma árvore, ao contrário do Bagging onde todas as características acabam sendo consideradas para divisão dos nós."
   ]
  },
  {
   "cell_type": "code",
   "execution_count": 1,
   "id": "2b9fb5e5",
   "metadata": {},
   "outputs": [],
   "source": [
    "import pandas as pd\n",
    "import numpy as np\n",
    "from sklearn.model_selection import StratifiedShuffleSplit\n",
    "from sklearn import tree\n",
    "from sklearn.tree import DecisionTreeClassifier\n",
    "import matplotlib.pyplot as plt\n",
    "from sklearn.metrics import accuracy_score\n",
    "from sklearn.metrics import confusion_matrix\n",
    "from sklearn.metrics import plot_confusion_matrix\n",
    "from sklearn.metrics import precision_score\n",
    "from sklearn.metrics import recall_score\n",
    "from sklearn.preprocessing import StandardScaler\n",
    "from sklearn.svm import SVC\n",
    "from sklearn.ensemble import RandomForestClassifier\n",
    "from sklearn.ensemble import AdaBoostClassifier\n",
    "import warnings\n",
    "warnings.filterwarnings('ignore')\n",
    "seed=0"
   ]
  },
  {
   "cell_type": "code",
   "execution_count": 2,
   "id": "7c2ada31",
   "metadata": {},
   "outputs": [
    {
     "data": {
      "text/html": [
       "<div>\n",
       "<style scoped>\n",
       "    .dataframe tbody tr th:only-of-type {\n",
       "        vertical-align: middle;\n",
       "    }\n",
       "\n",
       "    .dataframe tbody tr th {\n",
       "        vertical-align: top;\n",
       "    }\n",
       "\n",
       "    .dataframe thead th {\n",
       "        text-align: right;\n",
       "    }\n",
       "</style>\n",
       "<table border=\"1\" class=\"dataframe\">\n",
       "  <thead>\n",
       "    <tr style=\"text-align: right;\">\n",
       "      <th></th>\n",
       "      <th>sexo</th>\n",
       "      <th>posse_de_veiculo</th>\n",
       "      <th>posse_de_imovel</th>\n",
       "      <th>qtd_filhos</th>\n",
       "      <th>tipo_renda</th>\n",
       "      <th>educacao</th>\n",
       "      <th>estado_civil</th>\n",
       "      <th>tipo_residencia</th>\n",
       "      <th>idade</th>\n",
       "      <th>tempo_emprego</th>\n",
       "      <th>possui_celular</th>\n",
       "      <th>possui_fone_comercial</th>\n",
       "      <th>possui_fone</th>\n",
       "      <th>possui_email</th>\n",
       "      <th>qt_pessoas_residencia</th>\n",
       "      <th>mau</th>\n",
       "    </tr>\n",
       "  </thead>\n",
       "  <tbody>\n",
       "    <tr>\n",
       "      <th>0</th>\n",
       "      <td>M</td>\n",
       "      <td>Y</td>\n",
       "      <td>Y</td>\n",
       "      <td>0</td>\n",
       "      <td>Working</td>\n",
       "      <td>Secondary / secondary special</td>\n",
       "      <td>Married</td>\n",
       "      <td>House / apartment</td>\n",
       "      <td>58.832877</td>\n",
       "      <td>3.106849</td>\n",
       "      <td>1</td>\n",
       "      <td>0</td>\n",
       "      <td>0</td>\n",
       "      <td>0</td>\n",
       "      <td>2.0</td>\n",
       "      <td>False</td>\n",
       "    </tr>\n",
       "    <tr>\n",
       "      <th>1</th>\n",
       "      <td>F</td>\n",
       "      <td>N</td>\n",
       "      <td>Y</td>\n",
       "      <td>0</td>\n",
       "      <td>Commercial associate</td>\n",
       "      <td>Secondary / secondary special</td>\n",
       "      <td>Single / not married</td>\n",
       "      <td>House / apartment</td>\n",
       "      <td>52.356164</td>\n",
       "      <td>8.358904</td>\n",
       "      <td>1</td>\n",
       "      <td>0</td>\n",
       "      <td>1</td>\n",
       "      <td>1</td>\n",
       "      <td>1.0</td>\n",
       "      <td>False</td>\n",
       "    </tr>\n",
       "    <tr>\n",
       "      <th>2</th>\n",
       "      <td>F</td>\n",
       "      <td>N</td>\n",
       "      <td>Y</td>\n",
       "      <td>0</td>\n",
       "      <td>Commercial associate</td>\n",
       "      <td>Secondary / secondary special</td>\n",
       "      <td>Single / not married</td>\n",
       "      <td>House / apartment</td>\n",
       "      <td>52.356164</td>\n",
       "      <td>8.358904</td>\n",
       "      <td>1</td>\n",
       "      <td>0</td>\n",
       "      <td>1</td>\n",
       "      <td>1</td>\n",
       "      <td>1.0</td>\n",
       "      <td>False</td>\n",
       "    </tr>\n",
       "    <tr>\n",
       "      <th>3</th>\n",
       "      <td>M</td>\n",
       "      <td>Y</td>\n",
       "      <td>Y</td>\n",
       "      <td>0</td>\n",
       "      <td>Working</td>\n",
       "      <td>Higher education</td>\n",
       "      <td>Married</td>\n",
       "      <td>House / apartment</td>\n",
       "      <td>46.224658</td>\n",
       "      <td>2.106849</td>\n",
       "      <td>1</td>\n",
       "      <td>1</td>\n",
       "      <td>1</td>\n",
       "      <td>1</td>\n",
       "      <td>2.0</td>\n",
       "      <td>False</td>\n",
       "    </tr>\n",
       "    <tr>\n",
       "      <th>4</th>\n",
       "      <td>F</td>\n",
       "      <td>Y</td>\n",
       "      <td>N</td>\n",
       "      <td>0</td>\n",
       "      <td>Working</td>\n",
       "      <td>Incomplete higher</td>\n",
       "      <td>Married</td>\n",
       "      <td>House / apartment</td>\n",
       "      <td>29.230137</td>\n",
       "      <td>3.021918</td>\n",
       "      <td>1</td>\n",
       "      <td>0</td>\n",
       "      <td>0</td>\n",
       "      <td>0</td>\n",
       "      <td>2.0</td>\n",
       "      <td>False</td>\n",
       "    </tr>\n",
       "  </tbody>\n",
       "</table>\n",
       "</div>"
      ],
      "text/plain": [
       "  sexo posse_de_veiculo posse_de_imovel  qtd_filhos            tipo_renda  \\\n",
       "0    M                Y               Y           0               Working   \n",
       "1    F                N               Y           0  Commercial associate   \n",
       "2    F                N               Y           0  Commercial associate   \n",
       "3    M                Y               Y           0               Working   \n",
       "4    F                Y               N           0               Working   \n",
       "\n",
       "                        educacao          estado_civil    tipo_residencia  \\\n",
       "0  Secondary / secondary special               Married  House / apartment   \n",
       "1  Secondary / secondary special  Single / not married  House / apartment   \n",
       "2  Secondary / secondary special  Single / not married  House / apartment   \n",
       "3               Higher education               Married  House / apartment   \n",
       "4              Incomplete higher               Married  House / apartment   \n",
       "\n",
       "       idade  tempo_emprego  possui_celular  possui_fone_comercial  \\\n",
       "0  58.832877       3.106849               1                      0   \n",
       "1  52.356164       8.358904               1                      0   \n",
       "2  52.356164       8.358904               1                      0   \n",
       "3  46.224658       2.106849               1                      1   \n",
       "4  29.230137       3.021918               1                      0   \n",
       "\n",
       "   possui_fone  possui_email  qt_pessoas_residencia    mau  \n",
       "0            0             0                    2.0  False  \n",
       "1            1             1                    1.0  False  \n",
       "2            1             1                    1.0  False  \n",
       "3            1             1                    2.0  False  \n",
       "4            0             0                    2.0  False  "
      ]
     },
     "execution_count": 2,
     "metadata": {},
     "output_type": "execute_result"
    }
   ],
   "source": [
    "df = pd.read_csv(\"C:/Users/Allan/Documents/Material de apoio/Módulo 16 - TdD IV - Pandas avançado/input/dados.csv\")\n",
    "df.head()"
   ]
  },
  {
   "cell_type": "code",
   "execution_count": 3,
   "id": "5e338969",
   "metadata": {},
   "outputs": [
    {
     "data": {
      "text/plain": [
       "Class                    0\n",
       "qtd_filhos               0\n",
       "idade                    0\n",
       "tempo_emprego            0\n",
       "possui_celular           0\n",
       "possui_fone_comercial    0\n",
       "possui_fone              0\n",
       "possui_email             0\n",
       "qt_pessoas_residencia    0\n",
       "masculino                0\n",
       "possui_veiculo           0\n",
       "possui_imovel            0\n",
       "pensionista              0\n",
       "servidor_publico         0\n",
       "estudante                0\n",
       "empregado                0\n",
       "superior_completo        0\n",
       "superior_incompleto      0\n",
       "ensino_basico            0\n",
       "ensino_medio             0\n",
       "casado                   0\n",
       "separado                 0\n",
       "solteiro                 0\n",
       "viuvo                    0\n",
       "apartamento              0\n",
       "aluguel_social           0\n",
       "residencia_oficial       0\n",
       "aluguel                  0\n",
       "mora_com_pais            0\n",
       "dtype: int64"
      ]
     },
     "execution_count": 3,
     "metadata": {},
     "output_type": "execute_result"
    }
   ],
   "source": [
    "dados = pd.get_dummies(df, columns=['sexo','posse_de_veiculo','posse_de_imovel','mau','tipo_renda','educacao','estado_civil','tipo_residencia'], drop_first=True)\n",
    "dados.rename(columns={'sexo_M': 'masculino',\n",
    "                      'posse_de_veiculo_Y': 'possui_veiculo',\n",
    "                      'posse_de_imovel_Y': 'possui_imovel',\n",
    "                      'educacao_Higher education': 'superior_completo',\n",
    "                      'educacao_Incomplete higher': 'superior_incompleto',\n",
    "                      'educacao_Lower secondary': 'ensino_basico',\n",
    "                      'educacao_Secondary / secondary special': 'ensino_medio',\n",
    "                      'tipo_renda_Pensioner': 'pensionista',\n",
    "                      'tipo_renda_State servant': 'servidor_publico',\n",
    "                      'tipo_renda_Student': 'estudante',\n",
    "                      'tipo_renda_Working': 'empregado',\n",
    "                      'estado_civil_Married': 'casado',\n",
    "                      'estado_civil_Separated': 'separado',\n",
    "                      'estado_civil_Single / not married': 'solteiro',\n",
    "                      'estado_civil_Widow': 'viuvo',\n",
    "                      'tipo_residencia_House / apartment': 'apartamento',\n",
    "                      'tipo_residencia_Municipal apartment': 'aluguel_social',\n",
    "                      'tipo_residencia_Office apartment': 'residencia_oficial',\n",
    "                      'tipo_residencia_Rented apartment': 'aluguel',\n",
    "                      'tipo_residencia_With parents': 'mora_com_pais',\n",
    "                      'mau_True': 'Class'}, inplace=True)\n",
    "\n",
    "dados=dados[['Class','qtd_filhos', 'idade', 'tempo_emprego', 'possui_celular',\n",
    "       'possui_fone_comercial', 'possui_fone', 'possui_email',\n",
    "       'qt_pessoas_residencia', 'masculino', 'possui_veiculo', 'possui_imovel',\n",
    "        'pensionista', 'servidor_publico', 'estudante', 'empregado',\n",
    "       'superior_completo', 'superior_incompleto', 'ensino_basico',\n",
    "       'ensino_medio', 'casado', 'separado', 'solteiro', 'viuvo',\n",
    "       'apartamento', 'aluguel_social', 'residencia_oficial', 'aluguel',\n",
    "       'mora_com_pais']]\n",
    "dados.isna().sum()"
   ]
  },
  {
   "cell_type": "code",
   "execution_count": 4,
   "id": "e972b027",
   "metadata": {},
   "outputs": [
    {
     "name": "stdout",
     "output_type": "stream",
     "text": [
      "Wall time: 0 ns\n"
     ]
    }
   ],
   "source": [
    "%%time\n",
    "def executar_validador(X,y):\n",
    "    validador = StratifiedShuffleSplit(n_splits=1, test_size=0.1, random_state=seed)\n",
    "    for treino_id, teste_id in validador.split(X,y):\n",
    "        X_train, X_test = X[treino_id], X[teste_id]\n",
    "        y_train, y_test = y[treino_id], y[teste_id]\n",
    "    return X_train, X_test,y_train,y_test\n",
    "\n",
    "def executar_classificador(classificador, X_train, X_test, y_train):\n",
    "    arvore = classificador.fit(X_train,y_train)\n",
    "    y_pred = arvore.predict(X_test)\n",
    "    return y_pred\n",
    "\n",
    "def salvar_arvore(classificador, nome):\n",
    "    plt.figure(figsize=(20,10))\n",
    "    tree.plot_tree(classificador,filled=True,fontsize=14)\n",
    "    plt.savefig(nome)\n",
    "    plt.close()\n",
    "\n",
    "def validar_arvore(y_test,y_pred):\n",
    "    print('MÉTRICAS DA ÁRVORE')\n",
    "    print(f'Acurácia = {round(accuracy_score(y_test,y_pred)*100,2)}%')\n",
    "    print(f'Precisão = {round(precision_score(y_test,y_pred)*100,2)}%')\n",
    "    print(f'Recall da árvore = {round(recall_score(y_test,y_pred)*100,2)}%')\n",
    "    print(f'\\nMatriz de confusão\\n',confusion_matrix(y_test,y_pred))\n",
    "    \n",
    "        \n",
    "def visualizar_arvore(classificador):\n",
    "    colunas=dados.columns[1:(len(colunas))].to_list()\n",
    "    plt.rc('figure', figsize=(10, 10))\n",
    "    tp = tree.plot_tree(classificador, \n",
    "                    feature_names=colunas,  \n",
    "                    filled=True)"
   ]
  },
  {
   "cell_type": "code",
   "execution_count": 5,
   "id": "46a8d399",
   "metadata": {},
   "outputs": [
    {
     "name": "stdout",
     "output_type": "stream",
     "text": [
      "Número de linhas: 16650\n",
      "Número de maus pagadores: 390\n",
      "Relação maus pagadores: 2.34%\n"
     ]
    }
   ],
   "source": [
    "n_transacoes = dados['Class'].count()\n",
    "print(f'Número de linhas: {n_transacoes}')\n",
    "n_maus = dados['Class'].sum()\n",
    "print(f'Número de maus pagadores: {n_maus}')\n",
    "print(f'Relação maus pagadores: {round((n_maus/n_transacoes)*100,2)}%')\n"
   ]
  },
  {
   "cell_type": "code",
   "execution_count": 6,
   "id": "8825743e",
   "metadata": {},
   "outputs": [
    {
     "data": {
      "text/html": [
       "<div>\n",
       "<style scoped>\n",
       "    .dataframe tbody tr th:only-of-type {\n",
       "        vertical-align: middle;\n",
       "    }\n",
       "\n",
       "    .dataframe tbody tr th {\n",
       "        vertical-align: top;\n",
       "    }\n",
       "\n",
       "    .dataframe thead th {\n",
       "        text-align: right;\n",
       "    }\n",
       "</style>\n",
       "<table border=\"1\" class=\"dataframe\">\n",
       "  <thead>\n",
       "    <tr style=\"text-align: right;\">\n",
       "      <th></th>\n",
       "      <th>Class</th>\n",
       "      <th>qtd_filhos</th>\n",
       "      <th>idade</th>\n",
       "      <th>tempo_emprego</th>\n",
       "      <th>possui_celular</th>\n",
       "      <th>possui_fone_comercial</th>\n",
       "      <th>possui_fone</th>\n",
       "      <th>possui_email</th>\n",
       "      <th>qt_pessoas_residencia</th>\n",
       "      <th>masculino</th>\n",
       "      <th>...</th>\n",
       "      <th>ensino_medio</th>\n",
       "      <th>casado</th>\n",
       "      <th>separado</th>\n",
       "      <th>solteiro</th>\n",
       "      <th>viuvo</th>\n",
       "      <th>apartamento</th>\n",
       "      <th>aluguel_social</th>\n",
       "      <th>residencia_oficial</th>\n",
       "      <th>aluguel</th>\n",
       "      <th>mora_com_pais</th>\n",
       "    </tr>\n",
       "  </thead>\n",
       "  <tbody>\n",
       "    <tr>\n",
       "      <th>count</th>\n",
       "      <td>16650.000000</td>\n",
       "      <td>16650.000000</td>\n",
       "      <td>16650.000000</td>\n",
       "      <td>16650.000000</td>\n",
       "      <td>16650.0</td>\n",
       "      <td>16650.000000</td>\n",
       "      <td>16650.000000</td>\n",
       "      <td>16650.000000</td>\n",
       "      <td>16650.000000</td>\n",
       "      <td>16650.000000</td>\n",
       "      <td>...</td>\n",
       "      <td>16650.000000</td>\n",
       "      <td>16650.000000</td>\n",
       "      <td>16650.000000</td>\n",
       "      <td>16650.000000</td>\n",
       "      <td>16650.000000</td>\n",
       "      <td>16650.000000</td>\n",
       "      <td>16650.000000</td>\n",
       "      <td>16650.000000</td>\n",
       "      <td>16650.000000</td>\n",
       "      <td>16650.000000</td>\n",
       "    </tr>\n",
       "    <tr>\n",
       "      <th>mean</th>\n",
       "      <td>0.023423</td>\n",
       "      <td>0.433153</td>\n",
       "      <td>44.319513</td>\n",
       "      <td>-161.416446</td>\n",
       "      <td>1.0</td>\n",
       "      <td>0.225225</td>\n",
       "      <td>0.295676</td>\n",
       "      <td>0.088889</td>\n",
       "      <td>2.211892</td>\n",
       "      <td>0.327267</td>\n",
       "      <td>...</td>\n",
       "      <td>0.675375</td>\n",
       "      <td>0.701502</td>\n",
       "      <td>0.056757</td>\n",
       "      <td>0.122222</td>\n",
       "      <td>0.042462</td>\n",
       "      <td>0.899339</td>\n",
       "      <td>0.031231</td>\n",
       "      <td>0.007207</td>\n",
       "      <td>0.013634</td>\n",
       "      <td>0.044324</td>\n",
       "    </tr>\n",
       "    <tr>\n",
       "      <th>std</th>\n",
       "      <td>0.151249</td>\n",
       "      <td>0.739395</td>\n",
       "      <td>11.228837</td>\n",
       "      <td>376.843912</td>\n",
       "      <td>0.0</td>\n",
       "      <td>0.417743</td>\n",
       "      <td>0.456360</td>\n",
       "      <td>0.284592</td>\n",
       "      <td>0.903755</td>\n",
       "      <td>0.469230</td>\n",
       "      <td>...</td>\n",
       "      <td>0.468248</td>\n",
       "      <td>0.457613</td>\n",
       "      <td>0.231384</td>\n",
       "      <td>0.327552</td>\n",
       "      <td>0.201648</td>\n",
       "      <td>0.300888</td>\n",
       "      <td>0.173947</td>\n",
       "      <td>0.084591</td>\n",
       "      <td>0.115968</td>\n",
       "      <td>0.205821</td>\n",
       "    </tr>\n",
       "    <tr>\n",
       "      <th>min</th>\n",
       "      <td>0.000000</td>\n",
       "      <td>0.000000</td>\n",
       "      <td>22.030137</td>\n",
       "      <td>-1000.665753</td>\n",
       "      <td>1.0</td>\n",
       "      <td>0.000000</td>\n",
       "      <td>0.000000</td>\n",
       "      <td>0.000000</td>\n",
       "      <td>1.000000</td>\n",
       "      <td>0.000000</td>\n",
       "      <td>...</td>\n",
       "      <td>0.000000</td>\n",
       "      <td>0.000000</td>\n",
       "      <td>0.000000</td>\n",
       "      <td>0.000000</td>\n",
       "      <td>0.000000</td>\n",
       "      <td>0.000000</td>\n",
       "      <td>0.000000</td>\n",
       "      <td>0.000000</td>\n",
       "      <td>0.000000</td>\n",
       "      <td>0.000000</td>\n",
       "    </tr>\n",
       "    <tr>\n",
       "      <th>25%</th>\n",
       "      <td>0.000000</td>\n",
       "      <td>0.000000</td>\n",
       "      <td>34.873973</td>\n",
       "      <td>1.183562</td>\n",
       "      <td>1.0</td>\n",
       "      <td>0.000000</td>\n",
       "      <td>0.000000</td>\n",
       "      <td>0.000000</td>\n",
       "      <td>2.000000</td>\n",
       "      <td>0.000000</td>\n",
       "      <td>...</td>\n",
       "      <td>0.000000</td>\n",
       "      <td>0.000000</td>\n",
       "      <td>0.000000</td>\n",
       "      <td>0.000000</td>\n",
       "      <td>0.000000</td>\n",
       "      <td>1.000000</td>\n",
       "      <td>0.000000</td>\n",
       "      <td>0.000000</td>\n",
       "      <td>0.000000</td>\n",
       "      <td>0.000000</td>\n",
       "    </tr>\n",
       "    <tr>\n",
       "      <th>50%</th>\n",
       "      <td>0.000000</td>\n",
       "      <td>0.000000</td>\n",
       "      <td>43.493151</td>\n",
       "      <td>4.691781</td>\n",
       "      <td>1.0</td>\n",
       "      <td>0.000000</td>\n",
       "      <td>0.000000</td>\n",
       "      <td>0.000000</td>\n",
       "      <td>2.000000</td>\n",
       "      <td>0.000000</td>\n",
       "      <td>...</td>\n",
       "      <td>1.000000</td>\n",
       "      <td>1.000000</td>\n",
       "      <td>0.000000</td>\n",
       "      <td>0.000000</td>\n",
       "      <td>0.000000</td>\n",
       "      <td>1.000000</td>\n",
       "      <td>0.000000</td>\n",
       "      <td>0.000000</td>\n",
       "      <td>0.000000</td>\n",
       "      <td>0.000000</td>\n",
       "    </tr>\n",
       "    <tr>\n",
       "      <th>75%</th>\n",
       "      <td>0.000000</td>\n",
       "      <td>1.000000</td>\n",
       "      <td>53.410959</td>\n",
       "      <td>9.088356</td>\n",
       "      <td>1.0</td>\n",
       "      <td>0.000000</td>\n",
       "      <td>1.000000</td>\n",
       "      <td>0.000000</td>\n",
       "      <td>3.000000</td>\n",
       "      <td>1.000000</td>\n",
       "      <td>...</td>\n",
       "      <td>1.000000</td>\n",
       "      <td>1.000000</td>\n",
       "      <td>0.000000</td>\n",
       "      <td>0.000000</td>\n",
       "      <td>0.000000</td>\n",
       "      <td>1.000000</td>\n",
       "      <td>0.000000</td>\n",
       "      <td>0.000000</td>\n",
       "      <td>0.000000</td>\n",
       "      <td>0.000000</td>\n",
       "    </tr>\n",
       "    <tr>\n",
       "      <th>max</th>\n",
       "      <td>1.000000</td>\n",
       "      <td>14.000000</td>\n",
       "      <td>68.909589</td>\n",
       "      <td>42.906849</td>\n",
       "      <td>1.0</td>\n",
       "      <td>1.000000</td>\n",
       "      <td>1.000000</td>\n",
       "      <td>1.000000</td>\n",
       "      <td>15.000000</td>\n",
       "      <td>1.000000</td>\n",
       "      <td>...</td>\n",
       "      <td>1.000000</td>\n",
       "      <td>1.000000</td>\n",
       "      <td>1.000000</td>\n",
       "      <td>1.000000</td>\n",
       "      <td>1.000000</td>\n",
       "      <td>1.000000</td>\n",
       "      <td>1.000000</td>\n",
       "      <td>1.000000</td>\n",
       "      <td>1.000000</td>\n",
       "      <td>1.000000</td>\n",
       "    </tr>\n",
       "  </tbody>\n",
       "</table>\n",
       "<p>8 rows × 29 columns</p>\n",
       "</div>"
      ],
      "text/plain": [
       "              Class    qtd_filhos         idade  tempo_emprego  \\\n",
       "count  16650.000000  16650.000000  16650.000000   16650.000000   \n",
       "mean       0.023423      0.433153     44.319513    -161.416446   \n",
       "std        0.151249      0.739395     11.228837     376.843912   \n",
       "min        0.000000      0.000000     22.030137   -1000.665753   \n",
       "25%        0.000000      0.000000     34.873973       1.183562   \n",
       "50%        0.000000      0.000000     43.493151       4.691781   \n",
       "75%        0.000000      1.000000     53.410959       9.088356   \n",
       "max        1.000000     14.000000     68.909589      42.906849   \n",
       "\n",
       "       possui_celular  possui_fone_comercial   possui_fone  possui_email  \\\n",
       "count         16650.0           16650.000000  16650.000000  16650.000000   \n",
       "mean              1.0               0.225225      0.295676      0.088889   \n",
       "std               0.0               0.417743      0.456360      0.284592   \n",
       "min               1.0               0.000000      0.000000      0.000000   \n",
       "25%               1.0               0.000000      0.000000      0.000000   \n",
       "50%               1.0               0.000000      0.000000      0.000000   \n",
       "75%               1.0               0.000000      1.000000      0.000000   \n",
       "max               1.0               1.000000      1.000000      1.000000   \n",
       "\n",
       "       qt_pessoas_residencia     masculino  ...  ensino_medio        casado  \\\n",
       "count           16650.000000  16650.000000  ...  16650.000000  16650.000000   \n",
       "mean                2.211892      0.327267  ...      0.675375      0.701502   \n",
       "std                 0.903755      0.469230  ...      0.468248      0.457613   \n",
       "min                 1.000000      0.000000  ...      0.000000      0.000000   \n",
       "25%                 2.000000      0.000000  ...      0.000000      0.000000   \n",
       "50%                 2.000000      0.000000  ...      1.000000      1.000000   \n",
       "75%                 3.000000      1.000000  ...      1.000000      1.000000   \n",
       "max                15.000000      1.000000  ...      1.000000      1.000000   \n",
       "\n",
       "           separado      solteiro         viuvo   apartamento  aluguel_social  \\\n",
       "count  16650.000000  16650.000000  16650.000000  16650.000000    16650.000000   \n",
       "mean       0.056757      0.122222      0.042462      0.899339        0.031231   \n",
       "std        0.231384      0.327552      0.201648      0.300888        0.173947   \n",
       "min        0.000000      0.000000      0.000000      0.000000        0.000000   \n",
       "25%        0.000000      0.000000      0.000000      1.000000        0.000000   \n",
       "50%        0.000000      0.000000      0.000000      1.000000        0.000000   \n",
       "75%        0.000000      0.000000      0.000000      1.000000        0.000000   \n",
       "max        1.000000      1.000000      1.000000      1.000000        1.000000   \n",
       "\n",
       "       residencia_oficial       aluguel  mora_com_pais  \n",
       "count        16650.000000  16650.000000   16650.000000  \n",
       "mean             0.007207      0.013634       0.044324  \n",
       "std              0.084591      0.115968       0.205821  \n",
       "min              0.000000      0.000000       0.000000  \n",
       "25%              0.000000      0.000000       0.000000  \n",
       "50%              0.000000      0.000000       0.000000  \n",
       "75%              0.000000      0.000000       0.000000  \n",
       "max              1.000000      1.000000       1.000000  \n",
       "\n",
       "[8 rows x 29 columns]"
      ]
     },
     "execution_count": 6,
     "metadata": {},
     "output_type": "execute_result"
    }
   ],
   "source": [
    "dados.describe()"
   ]
  },
  {
   "cell_type": "code",
   "execution_count": 7,
   "id": "cc136d85",
   "metadata": {},
   "outputs": [
    {
     "name": "stdout",
     "output_type": "stream",
     "text": [
      "Wall time: 23.9 ms\n"
     ]
    }
   ],
   "source": [
    "%%time\n",
    "# Execução do validador\n",
    "X = dados.drop('Class', axis=1).values\n",
    "y = dados['Class'].values\n",
    "X_train, X_test,y_train,y_test = executar_validador(X,y)\n",
    "\n",
    "# Redimensionando escalas\n",
    "scaler = StandardScaler()\n",
    "X = scaler.fit_transform(X)\n"
   ]
  },
  {
   "cell_type": "code",
   "execution_count": 8,
   "id": "97cc1fbe",
   "metadata": {},
   "outputs": [],
   "source": [
    "# print(X_train.shape)\n",
    "# print(y_train.shape)\n",
    "# print(X_test.shape)\n",
    "# print(y_test.shape)"
   ]
  },
  {
   "cell_type": "code",
   "execution_count": 9,
   "id": "fc5e825b",
   "metadata": {},
   "outputs": [
    {
     "name": "stdout",
     "output_type": "stream",
     "text": [
      "\n",
      "Detalhamento do y_train\n",
      "[[    0 14634]\n",
      " [    1   351]]\n",
      "\n",
      "Detalhamento do y_test\n",
      "[[   0 1626]\n",
      " [   1   39]]\n"
     ]
    }
   ],
   "source": [
    "unique, counts = np.unique(y_train, return_counts=True)\n",
    "result = np.column_stack((unique, counts)) \n",
    "print (f'\\nDetalhamento do y_train\\n{result}')\n",
    "\n",
    "unique, counts = np.unique(y_test, return_counts=True)\n",
    "result = np.column_stack((unique, counts)) \n",
    "print (f'\\nDetalhamento do y_test\\n{result}')"
   ]
  },
  {
   "cell_type": "code",
   "execution_count": 10,
   "id": "ed1ee9e3",
   "metadata": {},
   "outputs": [],
   "source": [
    "#Execução do classificador DecisionTreeClassifier\n",
    "dtc = tree.DecisionTreeClassifier(random_state=seed)\n",
    "y_pred_arvore_decisao = executar_classificador(dtc,X_train,X_test, y_train)"
   ]
  },
  {
   "cell_type": "code",
   "execution_count": 11,
   "id": "a89c93ae",
   "metadata": {},
   "outputs": [
    {
     "name": "stdout",
     "output_type": "stream",
     "text": [
      "MÉTRICAS DA ÁRVORE\n",
      "Acurácia = 96.88%\n",
      "Precisão = 25.93%\n",
      "Recall da árvore = 17.95%\n",
      "\n",
      "Matriz de confusão\n",
      " [[1606   20]\n",
      " [  32    7]]\n"
     ]
    },
    {
     "data": {
      "image/png": "[encoded data removed]",
      "text/plain": [
       "<Figure size 640x480 with 2 Axes>"
      ]
     },
     "metadata": {},
     "output_type": "display_data"
    },
    {
     "name": "stdout",
     "output_type": "stream",
     "text": [
      "Wall time: 12.2 s\n"
     ]
    }
   ],
   "source": [
    "%%time\n",
    "# criação da figura árvore de decisão\n",
    "salvar_arvore(dtc, 'arvore1.jpg')\n",
    "\n",
    "# validação da árvore de decisão\n",
    "validar_arvore(y_test,y_pred_arvore_decisao)\n",
    "plot_confusion_matrix(dtc, X_test, y_test, display_labels=['Bom', 'Mau'])  \n",
    "plt.show()"
   ]
  },
  {
   "cell_type": "code",
   "execution_count": 12,
   "id": "a27481b4",
   "metadata": {},
   "outputs": [
    {
     "name": "stdout",
     "output_type": "stream",
     "text": [
      "DecisionTreeClassifier(random_state=0)\n",
      "Produndidade da árvore = 26\n",
      "Nº de folhas da árvore = 530\n"
     ]
    }
   ],
   "source": [
    "print(dtc)\n",
    "print(f'Produndidade da árvore = {dtc.get_depth()}')\n",
    "print(f'Nº de folhas da árvore = {dtc.get_n_leaves()}')"
   ]
  },
  {
   "cell_type": "code",
   "execution_count": 13,
   "id": "71966585",
   "metadata": {},
   "outputs": [
    {
     "name": "stdout",
     "output_type": "stream",
     "text": [
      "MÉTRICAS DA ÁRVORE\n",
      "Acurácia = 97.42%\n",
      "Precisão = 30.0%\n",
      "Recall da árvore = 7.69%\n",
      "\n",
      "Matriz de confusão\n",
      " [[1619    7]\n",
      " [  36    3]]\n"
     ]
    }
   ],
   "source": [
    "#Execução do classificador DecisionTreeClassifier\n",
    "dtc = tree.DecisionTreeClassifier(max_depth=10,random_state=0)\n",
    "y_pred_arvore_decisao = executar_classificador(dtc,X_train,X_test, y_train)\n",
    "validar_arvore(y_test,y_pred_arvore_decisao)"
   ]
  },
  {
   "cell_type": "code",
   "execution_count": 14,
   "id": "9f7f9867",
   "metadata": {},
   "outputs": [
    {
     "name": "stdout",
     "output_type": "stream",
     "text": [
      "MÉTRICAS DA ÁRVORE\n",
      "Acurácia = 97.6%\n",
      "Precisão = 40.0%\n",
      "Recall da árvore = 5.13%\n",
      "\n",
      "Matriz de confusão\n",
      " [[1623    3]\n",
      " [  37    2]]\n"
     ]
    }
   ],
   "source": [
    "#Execução do classificador DecisionTreeClassifier\n",
    "dtc = tree.DecisionTreeClassifier(max_depth=10,min_samples_leaf=10,random_state=0)\n",
    "y_pred_arvore_decisao = executar_classificador(dtc,X_train,X_test, y_train)\n",
    "validar_arvore(y_test,y_pred_arvore_decisao)"
   ]
  },
  {
   "cell_type": "code",
   "execution_count": 15,
   "id": "f138555b",
   "metadata": {},
   "outputs": [
    {
     "name": "stdout",
     "output_type": "stream",
     "text": [
      "MÉTRICAS DA ÁRVORE\n",
      "Acurácia = 97.72%\n",
      "Precisão = 60.0%\n",
      "Recall da árvore = 7.69%\n",
      "\n",
      "Matriz de confusão\n",
      " [[1624    2]\n",
      " [  36    3]]\n"
     ]
    }
   ],
   "source": [
    "dtc = tree.DecisionTreeClassifier(max_depth=5,random_state=0)\n",
    "y_pred_arvore_decisao = executar_classificador(dtc,X_train,X_test, y_train)\n",
    "validar_arvore(y_test,y_pred_arvore_decisao)"
   ]
  },
  {
   "cell_type": "markdown",
   "id": "1aebe7e7",
   "metadata": {},
   "source": [
    "### Utilizando bagging com Random Forest"
   ]
  },
  {
   "cell_type": "code",
   "execution_count": 16,
   "id": "6a43ac83",
   "metadata": {},
   "outputs": [
    {
     "name": "stdout",
     "output_type": "stream",
     "text": [
      "Wall time: 950 ms\n"
     ]
    }
   ],
   "source": [
    "%%time\n",
    "\n",
    "classificador_random_forest = RandomForestClassifier(n_estimators=100,\n",
    "\n",
    "                                                    random_state=0)\n",
    "\n",
    "y_pred_random_forest = executar_classificador(classificador_random_forest, X_train, X_test, y_train)"
   ]
  },
  {
   "cell_type": "code",
   "execution_count": 17,
   "id": "db2b7c5c",
   "metadata": {},
   "outputs": [],
   "source": [
    "salvar_arvore(classificador_random_forest.estimators_[0], 'random_forest1')\n",
    "salvar_arvore(classificador_random_forest.estimators_[1], 'random_forest2')"
   ]
  },
  {
   "cell_type": "code",
   "execution_count": 18,
   "id": "b8c111b8",
   "metadata": {},
   "outputs": [
    {
     "name": "stdout",
     "output_type": "stream",
     "text": [
      "* Árvore de decisão *\n",
      "=====================\n",
      "MÉTRICAS DA ÁRVORE\n",
      "Acurácia = 97.72%\n",
      "Precisão = 60.0%\n",
      "Recall da árvore = 7.69%\n",
      "\n",
      "Matriz de confusão\n",
      " [[1624    2]\n",
      " [  36    3]]\n",
      "\n",
      "* Árvore Random Forest *\n",
      "========================\n",
      "MÉTRICAS DA ÁRVORE\n",
      "Acurácia = 97.36%\n",
      "Precisão = 33.33%\n",
      "Recall da árvore = 12.82%\n",
      "\n",
      "Matriz de confusão\n",
      " [[1616   10]\n",
      " [  34    5]]\n",
      "Wall time: 11.7 ms\n"
     ]
    }
   ],
   "source": [
    "%%time\n",
    "print(f'* Árvore de decisão *')\n",
    "print (('=') * 21)\n",
    "validar_arvore(y_test,y_pred_arvore_decisao)\n",
    "print(f'\\n* Árvore Random Forest *')\n",
    "print (('=') * 24)\n",
    "validar_arvore(y_test,y_pred_random_forest)"
   ]
  },
  {
   "cell_type": "code",
   "execution_count": 19,
   "id": "865af484",
   "metadata": {},
   "outputs": [
    {
     "name": "stdout",
     "output_type": "stream",
     "text": [
      "Wall time: 389 ms\n"
     ]
    }
   ],
   "source": [
    "%%time\n",
    "classificador_random_forest = RandomForestClassifier(n_estimators=50,\n",
    "                                                     max_depth=10,\n",
    "                                                    random_state=0)\n",
    "y_pred_random_forest = executar_classificador(classificador_random_forest, X_train, X_test, y_train)"
   ]
  },
  {
   "cell_type": "code",
   "execution_count": 20,
   "id": "c787a39a",
   "metadata": {},
   "outputs": [
    {
     "name": "stdout",
     "output_type": "stream",
     "text": [
      "* Árvore de decisão *\n",
      "=====================\n",
      "MÉTRICAS DA ÁRVORE\n",
      "Acurácia = 97.72%\n",
      "Precisão = 60.0%\n",
      "Recall da árvore = 7.69%\n",
      "\n",
      "Matriz de confusão\n",
      " [[1624    2]\n",
      " [  36    3]]\n",
      "\n",
      "* Árvore Random Forest *\n",
      "========================\n",
      "MÉTRICAS DA ÁRVORE\n",
      "Acurácia = 97.66%\n",
      "Precisão = 50.0%\n",
      "Recall da árvore = 2.56%\n",
      "\n",
      "Matriz de confusão\n",
      " [[1625    1]\n",
      " [  38    1]]\n"
     ]
    }
   ],
   "source": [
    "print(f'* Árvore de decisão *')\n",
    "print (('=') * 21)\n",
    "validar_arvore(y_test,y_pred_arvore_decisao)\n",
    "print(f'\\n* Árvore Random Forest *')\n",
    "print (('=') * 24)\n",
    "validar_arvore(y_test,y_pred_random_forest)"
   ]
  },
  {
   "cell_type": "markdown",
   "id": "8aa50e3f",
   "metadata": {},
   "source": [
    "### Agregação com o AdaBoost"
   ]
  },
  {
   "cell_type": "code",
   "execution_count": 21,
   "id": "60e437c4",
   "metadata": {},
   "outputs": [
    {
     "name": "stdout",
     "output_type": "stream",
     "text": [
      "Wall time: 541 ms\n"
     ]
    }
   ],
   "source": [
    "%%time\n",
    "classificador_adaboost = AdaBoostClassifier(random_state=0)\n",
    "y_pred_adaboost = executar_classificador(classificador_adaboost,X_train,X_test, y_train)"
   ]
  },
  {
   "cell_type": "code",
   "execution_count": 22,
   "id": "1c3a997c",
   "metadata": {},
   "outputs": [
    {
     "name": "stdout",
     "output_type": "stream",
     "text": [
      "MÉTRICAS DA ÁRVORE\n",
      "Acurácia = 97.66%\n",
      "Precisão = 0.0%\n",
      "Recall da árvore = 0.0%\n",
      "\n",
      "Matriz de confusão\n",
      " [[1626    0]\n",
      " [  39    0]]\n"
     ]
    }
   ],
   "source": [
    "salvar_arvore(classificador_adaboost.estimators_[0],'adabost1')\n",
    "salvar_arvore(classificador_adaboost.estimators_[1],'adabost2')\n",
    "validar_arvore(y_test,y_pred_adaboost)"
   ]
  },
  {
   "cell_type": "code",
   "execution_count": null,
   "id": "204c7fdc",
   "metadata": {},
   "outputs": [],
   "source": []
  },
  {
   "cell_type": "code",
   "execution_count": null,
   "id": "3eb75cba",
   "metadata": {},
   "outputs": [],
   "source": []
  },
  {
   "cell_type": "code",
   "execution_count": null,
   "id": "25ba8699",
   "metadata": {},
   "outputs": [],
   "source": []
  },
  {
   "cell_type": "code",
   "execution_count": null,
   "id": "2934039b",
   "metadata": {},
   "outputs": [],
   "source": []
  },
  {
   "cell_type": "code",
   "execution_count": null,
   "id": "e17f49e2",
   "metadata": {},
   "outputs": [],
   "source": []
  }
 ],
 "metadata": {
  "kernelspec": {
   "display_name": "Python 3",
   "language": "python",
   "name": "python3"
  },
  "language_info": {
   "codemirror_mode": {
    "name": "ipython",
    "version": 3
   },
   "file_extension": ".py",
   "mimetype": "text/x-python",
   "name": "python",
   "nbconvert_exporter": "python",
   "pygments_lexer": "ipython3",
   "version": "3.9.7"
  }
 },
 "nbformat": 4,
 "nbformat_minor": 5
}
