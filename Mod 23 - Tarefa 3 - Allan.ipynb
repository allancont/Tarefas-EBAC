{
 "cells": [
  {
   "cell_type": "markdown",
   "id": "6b643b33",
   "metadata": {},
   "source": [
    "#### Hiperparâmetros do Random Forest"
   ]
  },
  {
   "cell_type": "markdown",
   "id": "d48c9d39",
   "metadata": {},
   "source": [
    "1. Quais são os hyperparâmetros do RF?\n",
    "- Out of bag (OOB)\n",
    "- max_features\n",
    "- min_samples_leaf\n",
    "- max_depth\n",
    "- n_estimators\n",
    "- criterion\n",
    "\n",
    "\n",
    "2. Pra que serve cada um deles?\n",
    "\n",
    "**Out of bag (OOB)** <br>\n",
    "Consiste em uma forma de validar o modelo do Random Forest onde a linha que é “deixada de fora” nos dados originais passa a ser utilizada como dados de treinamento para o modelo.\n",
    "\n",
    "**max_features**<br>\n",
    "Número máximo de recursos a serem considerados ao procurar a melhor divisão.\n",
    "\n",
    "**min_samples_leaf**<br>\n",
    "Número mínimo de amostras necessárias para cada nó da árvore. \n",
    "\n",
    "**max_depth**<br>\n",
    "Profundidade máxima da árvore. Se o max_depth=None, então os nós serão expandidos até que todas as folhas sejam puras ou até que todas as folhas contenham menos que min_samples_split amostras.\n",
    "\n",
    "**n_estimators**<br>\n",
    "O número de árvores na floresta sendo defaut = 100.\n",
    "\n",
    "**criterion**<br>\n",
    "Mede a qualidade de uma divisão. Os critérios suportados são:\n",
    "- “gini” para a impureza de Gini\n",
    "- “log_loss” e “entropia” para o ganho de informação de Shannon.\n"
   ]
  }
 ],
 "metadata": {
  "kernelspec": {
   "display_name": "Python 3",
   "language": "python",
   "name": "python3"
  },
  "language_info": {
   "codemirror_mode": {
    "name": "ipython",
    "version": 3
   },
   "file_extension": ".py",
   "mimetype": "text/x-python",
   "name": "python",
   "nbconvert_exporter": "python",
   "pygments_lexer": "ipython3",
   "version": "3.9.7"
  }
 },
 "nbformat": 4,
 "nbformat_minor": 5
}
