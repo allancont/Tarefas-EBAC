{
 "cells": [
  {
   "cell_type": "markdown",
   "id": "3c49aa38",
   "metadata": {},
   "source": [
    "### 1) Cite 5 diferenças entre o Random Forest e o AdaBoost"
   ]
  },
  {
   "cell_type": "markdown",
   "id": "4d66ebc0",
   "metadata": {},
   "source": [
    "|Random Forest| AdaBoost|\n",
    "|-------------|---------|\n",
    "|Floresta de árvores| Floresta de _\"Stumps\"_|\n",
    "|Árvores independentes|Árvore influenciando na próxima|\n",
    "|Todas as árvores têm o mesmo peso| Respostas têm pesos diferentes|\n",
    "|Baseado na técnica _\"bagging\"_| Baseado na técnica _\"boosting\"_|\n",
    "|Grande chance de ocorrer _overfit_|Quase nunca ocorre  _overfit_ |"
   ]
  },
  {
   "cell_type": "markdown",
   "id": "b1905b45",
   "metadata": {},
   "source": [
    "### 2) Exemplo Scikit-learn AdaBoost"
   ]
  },
  {
   "cell_type": "code",
   "execution_count": 1,
   "id": "8a96bf3d",
   "metadata": {},
   "outputs": [
    {
     "data": {
      "text/plain": [
       "0.9466666666666665"
      ]
     },
     "execution_count": 1,
     "metadata": {},
     "output_type": "execute_result"
    }
   ],
   "source": [
    "import numpy as np\n",
    "import pandas as pd\n",
    "from sklearn.model_selection import cross_val_score\n",
    "from sklearn.datasets import load_iris\n",
    "from sklearn.ensemble import AdaBoostClassifier\n",
    "from sklearn.model_selection import StratifiedShuffleSplit\n",
    "from sklearn.metrics import accuracy_score, roc_auc_score\n",
    "import seaborn as sns\n",
    "import matplotlib.pyplot as plt\n",
    "import warnings\n",
    "warnings.filterwarnings(\"ignore\")\n",
    "%matplotlib notebook\n",
    "\n",
    "X, y = load_iris(return_X_y=True)\n",
    "clf = AdaBoostClassifier(n_estimators=100)\n",
    "scores = cross_val_score(clf, X, y, cv=5)\n",
    "scores.mean()\n"
   ]
  },
  {
   "cell_type": "markdown",
   "id": "b3eee2ef",
   "metadata": {},
   "source": [
    "### 3) Cite 5 Hyperparametros importantes no AdaBoost\n",
    "- n_estimators: Número máximo de árvores no qual o _boost_ é encerrado;\n",
    "- base_estimator: O estimador base a partir do qual o conjunto _boost_ é construído.\n",
    "- learning_rate: Peso aplicado aos classificadores em cada iteração;\n",
    "- algorithm: Define qual algoritmo será utilizado no cálculo, podendo ser _SAMME_ ou _SAMME.R_;\n",
    "- random_state: Controla a semente de randomização em cada iteração."
   ]
  },
  {
   "cell_type": "markdown",
   "id": "7d787193",
   "metadata": {},
   "source": [
    "### 4) Utilizando do GridSearch para encontrar os melhores hiperparametros"
   ]
  },
  {
   "cell_type": "code",
   "execution_count": 2,
   "id": "874696d4",
   "metadata": {},
   "outputs": [],
   "source": [
    "def calcula_gini(RESP, PD):\n",
    "    #AUC\n",
    "    auc = roc_auc_score(RESP, PD,multi_class='ovr')\n",
    "           \n",
    "    #Gini\n",
    "    gini = 2*auc -1\n",
    "    return gini\n",
    "\n",
    "def executar_validador(X,y):\n",
    "    validador = StratifiedShuffleSplit(n_splits=1, test_size=0.3, random_state=0)\n",
    "    for treino_id, teste_id in validador.split(X,y):\n",
    "        X_train, X_test = X[treino_id], X[teste_id]\n",
    "        y_train, y_test = y[treino_id], y[teste_id]\n",
    "    return X_train, X_test,y_train,y_test"
   ]
  },
  {
   "cell_type": "code",
   "execution_count": 3,
   "id": "e92e6b40",
   "metadata": {},
   "outputs": [],
   "source": [
    "X_train, X_test,y_train,y_test = executar_validador(X,y)"
   ]
  },
  {
   "cell_type": "code",
   "execution_count": 4,
   "id": "f74cc62b",
   "metadata": {},
   "outputs": [
    {
     "name": "stdout",
     "output_type": "stream",
     "text": [
      "Wall time: 4.4 s\n"
     ]
    }
   ],
   "source": [
    "%%time\n",
    "lista_gini_test=[]\n",
    "lista_gini_train=[]\n",
    "\n",
    "grid = list(range(100, 1001, 150))\n",
    "\n",
    "for num_arvores in grid:\n",
    "    clf = AdaBoostClassifier(n_estimators=num_arvores)\n",
    "    \n",
    "    clf.fit(X_train,y_train.ravel())\n",
    "\n",
    "    gini_test  = calcula_gini(y_test, clf.predict_proba(X_test))\n",
    "    gini_train = calcula_gini(y_train, clf.predict_proba(X_train))\n",
    "\n",
    "    lista_gini_test.append(gini_test)\n",
    "    lista_gini_train.append(gini_train)    "
   ]
  },
  {
   "cell_type": "code",
   "execution_count": 9,
   "id": "097c782f",
   "metadata": {},
   "outputs": [
    {
     "data": {
      "text/html": [
       "<div>\n",
       "<style scoped>\n",
       "    .dataframe tbody tr th:only-of-type {\n",
       "        vertical-align: middle;\n",
       "    }\n",
       "\n",
       "    .dataframe tbody tr th {\n",
       "        vertical-align: top;\n",
       "    }\n",
       "\n",
       "    .dataframe thead th {\n",
       "        text-align: right;\n",
       "    }\n",
       "</style>\n",
       "<table border=\"1\" class=\"dataframe\">\n",
       "  <thead>\n",
       "    <tr style=\"text-align: right;\">\n",
       "      <th></th>\n",
       "      <th>100</th>\n",
       "      <th>250</th>\n",
       "      <th>400</th>\n",
       "      <th>550</th>\n",
       "      <th>700</th>\n",
       "      <th>850</th>\n",
       "      <th>1000</th>\n",
       "    </tr>\n",
       "  </thead>\n",
       "  <tbody>\n",
       "    <tr>\n",
       "      <th>100</th>\n",
       "      <td>0.994558</td>\n",
       "      <td>0.994014</td>\n",
       "      <td>0.994558</td>\n",
       "      <td>0.994014</td>\n",
       "      <td>0.994558</td>\n",
       "      <td>0.994014</td>\n",
       "      <td>0.994558</td>\n",
       "    </tr>\n",
       "    <tr>\n",
       "      <th>250</th>\n",
       "      <td>0.994558</td>\n",
       "      <td>0.994014</td>\n",
       "      <td>0.994558</td>\n",
       "      <td>0.994014</td>\n",
       "      <td>0.994558</td>\n",
       "      <td>0.994014</td>\n",
       "      <td>0.994558</td>\n",
       "    </tr>\n",
       "    <tr>\n",
       "      <th>400</th>\n",
       "      <td>0.994558</td>\n",
       "      <td>0.994014</td>\n",
       "      <td>0.994558</td>\n",
       "      <td>0.994014</td>\n",
       "      <td>0.994558</td>\n",
       "      <td>0.994014</td>\n",
       "      <td>0.994558</td>\n",
       "    </tr>\n",
       "    <tr>\n",
       "      <th>550</th>\n",
       "      <td>0.994558</td>\n",
       "      <td>0.994014</td>\n",
       "      <td>0.994558</td>\n",
       "      <td>0.994014</td>\n",
       "      <td>0.994558</td>\n",
       "      <td>0.994014</td>\n",
       "      <td>0.994558</td>\n",
       "    </tr>\n",
       "    <tr>\n",
       "      <th>700</th>\n",
       "      <td>0.994558</td>\n",
       "      <td>0.994014</td>\n",
       "      <td>0.994558</td>\n",
       "      <td>0.994014</td>\n",
       "      <td>0.994558</td>\n",
       "      <td>0.994014</td>\n",
       "      <td>0.994558</td>\n",
       "    </tr>\n",
       "    <tr>\n",
       "      <th>850</th>\n",
       "      <td>0.994558</td>\n",
       "      <td>0.994014</td>\n",
       "      <td>0.994558</td>\n",
       "      <td>0.994014</td>\n",
       "      <td>0.994558</td>\n",
       "      <td>0.994014</td>\n",
       "      <td>0.994558</td>\n",
       "    </tr>\n",
       "    <tr>\n",
       "      <th>1000</th>\n",
       "      <td>0.994558</td>\n",
       "      <td>0.994014</td>\n",
       "      <td>0.994558</td>\n",
       "      <td>0.994014</td>\n",
       "      <td>0.994558</td>\n",
       "      <td>0.994014</td>\n",
       "      <td>0.994558</td>\n",
       "    </tr>\n",
       "  </tbody>\n",
       "</table>\n",
       "</div>"
      ],
      "text/plain": [
       "          100       250       400       550       700       850       1000\n",
       "100   0.994558  0.994014  0.994558  0.994014  0.994558  0.994014  0.994558\n",
       "250   0.994558  0.994014  0.994558  0.994014  0.994558  0.994014  0.994558\n",
       "400   0.994558  0.994014  0.994558  0.994014  0.994558  0.994014  0.994558\n",
       "550   0.994558  0.994014  0.994558  0.994014  0.994558  0.994014  0.994558\n",
       "700   0.994558  0.994014  0.994558  0.994014  0.994558  0.994014  0.994558\n",
       "850   0.994558  0.994014  0.994558  0.994014  0.994558  0.994014  0.994558\n",
       "1000  0.994558  0.994014  0.994558  0.994014  0.994558  0.994014  0.994558"
      ]
     },
     "execution_count": 9,
     "metadata": {},
     "output_type": "execute_result"
    }
   ],
   "source": [
    "zip_gini_train = zip(list(range(100, 1001, 150)), lista_gini_train)\n",
    "zip_gini_test = zip(list(range(100, 1001, 150)), lista_gini_test)\n",
    "\n",
    "dict_gini_train = dict(zip_gini_train)\n",
    "dict_gini_test = dict(zip_gini_test)\n",
    "\n",
    "\n",
    "series_gini_train = pd.Series(dict_gini_train)\n",
    "series_gini_test = pd.Series(dict_gini_test)\n",
    "\n",
    "\n",
    "pd.DataFrame(dict_gini_train,dict_gini_test)"
   ]
  }
 ],
 "metadata": {
  "kernelspec": {
   "display_name": "Python 3",
   "language": "python",
   "name": "python3"
  },
  "language_info": {
   "codemirror_mode": {
    "name": "ipython",
    "version": 3
   },
   "file_extension": ".py",
   "mimetype": "text/x-python",
   "name": "python",
   "nbconvert_exporter": "python",
   "pygments_lexer": "ipython3",
   "version": "3.9.7"
  }
 },
 "nbformat": 4,
 "nbformat_minor": 5
}
