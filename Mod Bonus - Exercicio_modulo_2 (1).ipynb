{
  "nbformat": 4,
  "nbformat_minor": 0,
  "metadata": {
    "colab": {
      "name": "Exercicio_modulo_2.ipynb",
      "provenance": [],
      "collapsed_sections": [],
      "toc_visible": true
    },
    "kernelspec": {
      "name": "python3",
      "display_name": "Python 3"
    },
    "language_info": {
      "name": "python"
    }
  },
  "cells": [
    {
      "cell_type": "code",
      "metadata": {
        "colab": {
          "base_uri": "https://localhost:8080/"
        },
        "id": "HJEfAOcYlehI",
        "outputId": "033cc36c-8e24-43e9-e14f-99aae275217b"
      },
      "source": [
        "#exercicio 1\n",
        "filmes=['Um Sonho de Liberdade',\t\t\t\t\t\n",
        "'O Poderoso Chefão',\n",
        "'O Poderoso Chefão II',\n",
        "'Batman: O Cavaleiro das Trevas',\n",
        "'12 Homens e uma Sentença',\n",
        "'A Lista de Schindler',\n",
        "'O Senhor dos Anéis: O Retorno do Rei',\n",
        "'Pulp Fiction: Tempo de Violência',\n",
        "'Três Homens em Conflito',\n",
        "'O Senhor dos Anéis: A Sociedade do Anel'\n",
        "]\n",
        "print(filmes)\n",
        "\n",
        "filmes.insert(0,'O Poderoso Chefão')\n",
        "filmes.pop(2)\n",
        "print(filmes)\n",
        "\n"
      ],
      "execution_count": null,
      "outputs": [
        {
          "output_type": "stream",
          "text": [
            "['Um Sonho de Liberdade', 'O Poderoso Chefão', 'O Poderoso Chefão II', 'Batman: O Cavaleiro das Trevas', '12 Homens e uma Sentença', 'A Lista de Schindler', 'O Senhor dos Anéis: O Retorno do Rei', 'Pulp Fiction: Tempo de Violência', 'Três Homens em Conflito', 'O Senhor dos Anéis: A Sociedade do Anel']\n",
            "['O Poderoso Chefão', 'Um Sonho de Liberdade', 'O Poderoso Chefão II', 'Batman: O Cavaleiro das Trevas', '12 Homens e uma Sentença', 'A Lista de Schindler', 'O Senhor dos Anéis: O Retorno do Rei', 'Pulp Fiction: Tempo de Violência', 'Três Homens em Conflito', 'O Senhor dos Anéis: A Sociedade do Anel']\n"
          ],
          "name": "stdout"
        }
      ]
    },
    {
      "cell_type": "code",
      "metadata": {
        "colab": {
          "base_uri": "https://localhost:8080/"
        },
        "id": "GQw2bI9spvp5",
        "outputId": "125973e5-f77a-43fd-f3f1-dfcfdc179cb4"
      },
      "source": [
        "#exercicio 2\n",
        "filmes.append('Pulp Fiction: Tempo de Violência')\n",
        "filmes.append('Três Homens em Conflito')\n",
        "filmes.append('O Senhor dos Anéis: A Sociedade do Anel')\n",
        "print(filmes)\n",
        "set_filmes=set(filmes)\n",
        "print(set_filmes)\n",
        "print(type(set_filmes))"
      ],
      "execution_count": null,
      "outputs": [
        {
          "output_type": "stream",
          "text": [
            "['O Poderoso Chefão', 'Um Sonho de Liberdade', 'O Poderoso Chefão II', 'Batman: O Cavaleiro das Trevas', '12 Homens e uma Sentença', 'A Lista de Schindler', 'O Senhor dos Anéis: O Retorno do Rei', 'Pulp Fiction: Tempo de Violência', 'Três Homens em Conflito', 'O Senhor dos Anéis: A Sociedade do Anel', 'Pulp Fiction: Tempo de Violência', 'Três Homens em Conflito', 'O Senhor dos Anéis: A Sociedade do Anel']\n",
            "{'12 Homens e uma Sentença', 'O Senhor dos Anéis: O Retorno do Rei', 'O Poderoso Chefão', 'O Poderoso Chefão II', 'Pulp Fiction: Tempo de Violência', 'Batman: O Cavaleiro das Trevas', 'Um Sonho de Liberdade', 'Três Homens em Conflito', 'A Lista de Schindler', 'O Senhor dos Anéis: A Sociedade do Anel'}\n",
            "<class 'set'>\n"
          ],
          "name": "stdout"
        }
      ]
    },
    {
      "cell_type": "code",
      "metadata": {
        "colab": {
          "base_uri": "https://localhost:8080/"
        },
        "id": "Z-gtKDO1snlx",
        "outputId": "21499d7c-18f4-4836-a756-a3581515fd01"
      },
      "source": [
        "#exercicio 3\n",
        "filmes=[]\n",
        "obra={'nome': 'Um Sonho de Liberdade ', 'ano': '1994', 'sinopse': 'Dois homens presos se unem por vários anos, encontrando consolo e eventual redenção por meio de atos de decência comum'}\n",
        "filmes.append(obra)\n",
        "obra={'nome': 'O Poderoso Chefão ', 'ano': '1972', 'sinopse': 'O patriarca idoso de uma dinastia do crime organizado transfere o controle de seu império clandestino para seu filho relutante.'}\n",
        "filmes.append(obra)\n",
        "obra={'nome': 'O Poderoso Chefão II ', 'ano': '1974', 'sinopse': 'O início da vida e carreira de Vito Corleone na cidade de Nova York dos anos 1920 é retratado, enquanto seu filho, Michael, expande e aperta seu controle sobre o sindicato do crime familiar.'}\n",
        "filmes.append(obra)\n",
        "obra={'nome': 'Batman: O Cavaleiro das Trevas ', 'ano': '2008', 'sinopse': 'Quando a ameaça conhecida como Coringa causa estragos e caos no povo de Gotham, Batman deve aceitar um dos maiores testes psicológicos e físicos de sua capacidade de lutar contra a injustiça.'}\n",
        "filmes.append(obra)\n",
        "obra={'nome': '12 Homens e uma Sentença ', 'ano': '1957', 'sinopse': 'Uma resistência do júri tenta evitar um erro judiciário, forçando seus colegas a reconsiderar as evidências.'}\n",
        "filmes.append(obra)\n",
        "obra={'nome': 'A Lista de Schindler ', 'ano': '1993', 'sinopse': 'Na Polônia ocupada pelos alemães durante a Segunda Guerra Mundial, o industrial Oskar Schindler gradualmente se preocupa com sua força de trabalho judia depois de testemunhar sua perseguição pelos nazistas'}\n",
        "filmes.append(obra)\n",
        "obra={'nome': 'O Senhor dos Anéis: O Retorno do Rei ', 'ano': '2003', 'sinopse': 'Gandalf e Aragorn lideram o Mundo dos Homens contra o exército de Sauron para desviar seu olhar de Frodo e Sam enquanto eles se aproximam do Monte da Perdição com o Um Anel.'}\n",
        "filmes.append(obra)\n",
        "obra={'nome': 'Pulp Fiction: Tempo de Violência ', 'ano': '1994', 'sinopse': 'As vidas de dois assassinos da máfia, um boxeador, um gangster e sua esposa, e um par de bandidos de jantar se entrelaçam em quatro contos de violência e redenção.'}\n",
        "filmes.append(obra)\n",
        "obra={'nome': 'Três Homens em Conflito ', 'ano': '1966', 'sinopse': 'Um golpe de caça à recompensa une dois homens em uma aliança difícil contra um terceiro em uma corrida para encontrar uma fortuna em ouro enterrado em um cemitério remoto.'}\n",
        "filmes.append(obra)\n",
        "obra={'nome': ' O Senhor dos Anéis: A Sociedade do Anel ', 'ano': '2001', 'sinopse': 'Um manso Hobbit do Condado e oito companheiros partem em uma jornada para destruir o poderoso Um Anel e salvar a Terra-média do Lorde das Trevas Sauron.'}\n",
        "print(filmes)\n",
        "\n",
        "chave_filmes=list(obra.keys())\n",
        "print(chave_filmes)\n",
        "valor_filmes=list(obra.values())\n",
        "print(valor_filmes)"
      ],
      "execution_count": null,
      "outputs": [
        {
          "output_type": "stream",
          "text": [
            "[{'nome': 'Um Sonho de Liberdade ', 'ano': '1994', 'sinopse': 'Dois homens presos se unem por vários anos, encontrando consolo e eventual redenção por meio de atos de decência comum'}, {'nome': 'O Poderoso Chefão ', 'ano': '1972', 'sinopse': 'O patriarca idoso de uma dinastia do crime organizado transfere o controle de seu império clandestino para seu filho relutante.'}, {'nome': 'O Poderoso Chefão II ', 'ano': '1974', 'sinopse': 'O início da vida e carreira de Vito Corleone na cidade de Nova York dos anos 1920 é retratado, enquanto seu filho, Michael, expande e aperta seu controle sobre o sindicato do crime familiar.'}, {'nome': 'Batman: O Cavaleiro das Trevas ', 'ano': '2008', 'sinopse': 'Quando a ameaça conhecida como Coringa causa estragos e caos no povo de Gotham, Batman deve aceitar um dos maiores testes psicológicos e físicos de sua capacidade de lutar contra a injustiça.'}, {'nome': '12 Homens e uma Sentença ', 'ano': '1957', 'sinopse': 'Uma resistência do júri tenta evitar um erro judiciário, forçando seus colegas a reconsiderar as evidências.'}, {'nome': 'A Lista de Schindler ', 'ano': '1993', 'sinopse': 'Na Polônia ocupada pelos alemães durante a Segunda Guerra Mundial, o industrial Oskar Schindler gradualmente se preocupa com sua força de trabalho judia depois de testemunhar sua perseguição pelos nazistas'}, {'nome': 'O Senhor dos Anéis: O Retorno do Rei ', 'ano': '2003', 'sinopse': 'Gandalf e Aragorn lideram o Mundo dos Homens contra o exército de Sauron para desviar seu olhar de Frodo e Sam enquanto eles se aproximam do Monte da Perdição com o Um Anel.'}, {'nome': 'Pulp Fiction: Tempo de Violência ', 'ano': '1994', 'sinopse': 'As vidas de dois assassinos da máfia, um boxeador, um gangster e sua esposa, e um par de bandidos de jantar se entrelaçam em quatro contos de violência e redenção.'}, {'nome': 'Três Homens em Conflito ', 'ano': '1966', 'sinopse': 'Um golpe de caça à recompensa une dois homens em uma aliança difícil contra um terceiro em uma corrida para encontrar uma fortuna em ouro enterrado em um cemitério remoto.'}]\n",
            "['nome', 'ano', 'sinopse']\n",
            "[' O Senhor dos Anéis: A Sociedade do Anel ', '2001', 'Um manso Hobbit do Condado e oito companheiros partem em uma jornada para destruir o poderoso Um Anel e salvar a Terra-média do Lorde das Trevas Sauron.']\n"
          ],
          "name": "stdout"
        }
      ]
    }
  ]
}