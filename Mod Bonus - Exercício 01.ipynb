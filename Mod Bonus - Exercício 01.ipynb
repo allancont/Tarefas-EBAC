{
  "nbformat": 4,
  "nbformat_minor": 0,
  "metadata": {
    "colab": {
      "name": "Exercícios.ipynb",
      "provenance": [],
      "collapsed_sections": []
    },
    "kernelspec": {
      "name": "python3",
      "display_name": "Python 3"
    },
    "language_info": {
      "name": "python"
    }
  },
  "cells": [
    {
      "cell_type": "code",
      "metadata": {
        "id": "GNuXRrflUjyp"
      },
      "source": [
        "## exercício 1\n",
        "texto='Olá mundo!'\n",
        "print(texto)"
      ],
      "execution_count": null,
      "outputs": []
    },
    {
      "cell_type": "code",
      "metadata": {
        "id": "Jn2P-4xgVaU3"
      },
      "source": [
        "## exercício 2\n",
        "valor_a=320.52*3\n",
        "print(valor_a)\n",
        "\n",
        "valor_b=834.47//119.21\n",
        "print(valor_b)\n",
        "\n",
        "valor_c=15378.12//5\n",
        "print(valor_c)"
      ],
      "execution_count": null,
      "outputs": []
    },
    {
      "cell_type": "code",
      "metadata": {
        "colab": {
          "base_uri": "https://localhost:8080/"
        },
        "id": "LjPlXNFBWIgO",
        "outputId": "75ae72bd-21ee-4483-d15a-6e6f941a85b8"
      },
      "source": [
        "## exercício 3\n",
        "cancao = 'Roda mundo, roda gigante, roda moinho, roda pião.'\n",
        "cancao_up= cancao.upper()\n",
        "print(cancao_up)\n",
        "\n",
        "cancao_split=cancao.split(', ')\n",
        "print(cancao_split)\n",
        "\n",
        "cancao_cap=cancao_up.capitalize()\n",
        "print(cancao_cap)\n",
        "\n",
        "noticia = 'Selic vai a 2,75% e supera expectativas; é a primeira alta em 6 anos.'\n",
        "selic_pos=noticia.find('2,75%')\n",
        "ext_selic=noticia[selic_pos:selic_pos+5]\n",
        "selic=f'selic: {ext_selic}'\n",
        "print(selic)\n",
        "ano_pos=len(noticia)\n",
        "ext_ano=noticia[ano_pos-7]\n",
        "ano=f'ano: {ext_ano}'\n",
        "print(ano)"
      ],
      "execution_count": 54,
      "outputs": [
        {
          "output_type": "stream",
          "text": [
            "RODA MUNDO, RODA GIGANTE, RODA MOINHO, RODA PIÃO.\n",
            "['Roda mundo', 'roda gigante', 'roda moinho', 'roda pião.']\n",
            "Roda mundo, roda gigante, roda moinho, roda pião.\n",
            "selic: 2,75%\n",
            "ano: 6\n"
          ],
          "name": "stdout"
        }
      ]
    },
    {
      "cell_type": "code",
      "metadata": {
        "colab": {
          "base_uri": "https://localhost:8080/"
        },
        "id": "vKSd1dNLjIUB",
        "outputId": "15285b37-1a61-4e90-fa7b-3584f04934a1"
      },
      "source": [
        "## exercício 4\n",
        "a = False\n",
        "b = True\n",
        "x = not a & b\n",
        "print(x)"
      ],
      "execution_count": 58,
      "outputs": [
        {
          "output_type": "stream",
          "text": [
            "True\n"
          ],
          "name": "stdout"
        }
      ]
    }
  ]
}